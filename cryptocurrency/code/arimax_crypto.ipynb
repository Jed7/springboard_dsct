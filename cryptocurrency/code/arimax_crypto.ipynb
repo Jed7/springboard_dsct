{
 "cells": [
  {
   "cell_type": "code",
   "execution_count": null,
   "metadata": {
    "collapsed": false
   },
   "outputs": [],
   "source": [
    "# Import statements (standard)\n",
    "import math\n",
    "import time\n",
    "import numpy as np\n",
    "import pandas as pd\n",
    "import datetime as dt\n",
    "import seaborn as sns\n",
    "import matplotlib.pyplot as plt\n",
    "import matplotlib.dates as mdates\n",
    "\n",
    "# Import statements (custom)\n",
    "import helper_functions as hf\n",
    "\n",
    "# Import statements (stats)\n",
    "from statsmodels.tsa.arima_model import ARIMA\n",
    "from statsmodels.tsa.stattools import adfuller\n",
    "from statsmodels.tsa.stattools import acf, pacf\n",
    "#from pandas.plotting import autocorrelation_plot as acf_pl\n",
    "from statsmodels.graphics.tsaplots import plot_acf, plot_pacf"
   ]
  },
  {
   "cell_type": "code",
   "execution_count": null,
   "metadata": {
    "collapsed": true
   },
   "outputs": [],
   "source": [
    "# Load data.\n",
    "df = pd.read_csv('~/Desktop/Springboard/Cryptocurrency/code/cleaned_crypto_all_features.csv', header=[0,1], skiprows=[2], index_col=0)\n",
    "df.index.name = 'time'\n",
    "df.index = pd.to_datetime(df.index)\n",
    "df = df[:-1].astype(float) # drop last row (missing closing prices)"
   ]
  },
  {
   "cell_type": "code",
   "execution_count": null,
   "metadata": {
    "collapsed": true
   },
   "outputs": [],
   "source": [
    "# Split data into \"training\"/\"test\" (test will be where we forecast) sets.\n",
    "train_end = pd.to_datetime('2017/11/30 12:00:00')\n",
    "test_start = pd.to_datetime('2017/11/30 13:00:00')\n",
    "crypto_str = 'ETH_USD'\n",
    "\n",
    "sub_df = df.xs(crypto_str, level='fsym_tsym', axis=1)\n",
    "train_df = sub_df.ix[:train_end]\n",
    "train_prices = train_df.close\n",
    "test_df = sub_df.ix[test_start:] \n",
    "test_prices = test_df.close\n",
    "all_prices = sub_df.close"
   ]
  },
  {
   "cell_type": "code",
   "execution_count": null,
   "metadata": {
    "collapsed": false
   },
   "outputs": [],
   "source": [
    "# Plot all closing prices.\n",
    "_ = sub_df.close.plot()\n",
    "_ = plt.xlabel('Date')\n",
    "_ = plt.ylabel('Closing Price')\n",
    "_ = plt.title('Ethereum')\n",
    "plt.show()"
   ]
  },
  {
   "cell_type": "markdown",
   "metadata": {},
   "source": [
    "### Checking for Stationarity"
   ]
  },
  {
   "cell_type": "code",
   "execution_count": null,
   "metadata": {
    "collapsed": true
   },
   "outputs": [],
   "source": [
    "def adf_stationarity_test(df, al=None, nl=1):\n",
    "    \"\"\"\n",
    "    Performs augmented Dickey-Fuller test for stationarity. The null\n",
    "    hypothesis is that the time series possesses a unit root (non-\n",
    "    stationary), while the alternative hypothesis is there is no unit\n",
    "    root (stationary). This function is written to be called one cryptocurrency\n",
    "    at a time.\n",
    "\n",
    "    Inputs:\n",
    "        df: cryptocurrency prices (rows: times, column: prices)\n",
    "        al: autolag (parameter for adfuller -> options: 'AIC', 'BIC', 't-stat')\n",
    "        nl: number of lags (input manually)\n",
    "\n",
    "    Returns:\n",
    "        output: results from ADF test\n",
    "    \"\"\"\n",
    "    if al is None:\n",
    "        results = adfuller(df, maxlag=nl)\n",
    "    else:\n",
    "        results = adfuller(df, autolag=al)\n",
    "\n",
    "    formatted_results = pd.Series({'Test Statistic': results[0], 'p-value':\n",
    "                                   results[1], 'Number of Lags': results[2],\n",
    "                                   'Number of Data Points': results[3]})\n",
    "\n",
    "    return formatted_results"
   ]
  },
  {
   "cell_type": "code",
   "execution_count": null,
   "metadata": {
    "collapsed": true
   },
   "outputs": [],
   "source": [
    "def difference_prices(df, order=1):\n",
    "    \"\"\"\n",
    "    Difference cryptocurrency closing prices.\n",
    "\n",
    "    Inputs:\n",
    "        df: cryptocurrency prices (rows: times, columns: cryptocurrencies)\n",
    "        order: order of differencing (default: 1)\n",
    "\n",
    "    Returns:\n",
    "        diff_df: differenced cryptocurrency prices (same as above)\n",
    "    \"\"\"\n",
    "    diff_df = df.diff(periods=order)\n",
    "    diff_df = diff_df.dropna()\n",
    "\n",
    "    return diff_df"
   ]
  },
  {
   "cell_type": "markdown",
   "metadata": {},
   "source": [
    "#### Closing Prices (without differencing)"
   ]
  },
  {
   "cell_type": "code",
   "execution_count": null,
   "metadata": {
    "collapsed": false
   },
   "outputs": [],
   "source": [
    "print('Train:')\n",
    "adf_stationarity_test(train_prices, al='AIC')"
   ]
  },
  {
   "cell_type": "code",
   "execution_count": null,
   "metadata": {
    "collapsed": false
   },
   "outputs": [],
   "source": [
    "print('Test:')\n",
    "adf_stationarity_test(test_prices, al='AIC')"
   ]
  },
  {
   "cell_type": "code",
   "execution_count": null,
   "metadata": {
    "collapsed": false
   },
   "outputs": [],
   "source": [
    "print('All:')\n",
    "adf_stationarity_test(all_prices, al='AIC')"
   ]
  },
  {
   "cell_type": "markdown",
   "metadata": {},
   "source": [
    "#### Closing Prices (first differenced)"
   ]
  },
  {
   "cell_type": "code",
   "execution_count": null,
   "metadata": {
    "collapsed": false
   },
   "outputs": [],
   "source": [
    "train_diff_prices = difference_prices(train_prices)\n",
    "test_diff_prices = difference_prices(test_prices)\n",
    "all_diff_prices = difference_prices(all_prices)"
   ]
  },
  {
   "cell_type": "code",
   "execution_count": null,
   "metadata": {
    "collapsed": false
   },
   "outputs": [],
   "source": [
    "print('Train:')\n",
    "adf_stationarity_test(train_diff_prices, al='AIC')"
   ]
  },
  {
   "cell_type": "code",
   "execution_count": null,
   "metadata": {
    "collapsed": false
   },
   "outputs": [],
   "source": [
    "print('Test:')\n",
    "adf_stationarity_test(test_diff_prices, al='AIC')"
   ]
  },
  {
   "cell_type": "code",
   "execution_count": null,
   "metadata": {
    "collapsed": false
   },
   "outputs": [],
   "source": [
    "print('All:')\n",
    "adf_stationarity_test(all_diff_prices, al='AIC')"
   ]
  },
  {
   "cell_type": "markdown",
   "metadata": {},
   "source": [
    "### Determine *p*, *q* parameters from ACF/PACF"
   ]
  },
  {
   "cell_type": "code",
   "execution_count": null,
   "metadata": {
    "collapsed": false
   },
   "outputs": [],
   "source": [
    "plot_acf(all_diff_prices)"
   ]
  },
  {
   "cell_type": "code",
   "execution_count": null,
   "metadata": {
    "collapsed": false
   },
   "outputs": [],
   "source": [
    "plot_acf(all_diff_prices, lags=365)"
   ]
  },
  {
   "cell_type": "code",
   "execution_count": null,
   "metadata": {
    "collapsed": false
   },
   "outputs": [],
   "source": [
    "plot_acf(all_diff_prices, lags=50)"
   ]
  },
  {
   "cell_type": "code",
   "execution_count": null,
   "metadata": {
    "collapsed": false
   },
   "outputs": [],
   "source": [
    "# Generate PACF. \n",
    "# Note: plot_pacf stalls out, so do this manually.\n",
    "pacf_values = pacf(all_diff_prices)\n",
    "\n",
    "_ = plt.close('all')\n",
    "_ = plt.stem(pacf_values, linefmt='b-', markerfmt='bo', basefmt='r-')\n",
    "plt.show()"
   ]
  },
  {
   "cell_type": "markdown",
   "metadata": {},
   "source": [
    "The ACF/PACF do not look as nice as the standard textbook examples, but let's try an ARIMA(0,1,2) model. "
   ]
  },
  {
   "cell_type": "markdown",
   "metadata": {},
   "source": [
    "### ARIMA Forecast/Check Residuals"
   ]
  },
  {
   "cell_type": "code",
   "execution_count": null,
   "metadata": {
    "collapsed": false
   },
   "outputs": [],
   "source": [
    "ar_p = 0 \n",
    "d = 1\n",
    "ma_q = 2\n",
    "\n",
    "# First, try it for the entire time series. \n",
    "model = ARIMA(all_prices, order=(ar_p, d, ma_q))\n",
    "fitted_model = model.fit(disp=False)"
   ]
  },
  {
   "cell_type": "code",
   "execution_count": null,
   "metadata": {
    "collapsed": false
   },
   "outputs": [],
   "source": [
    "# Check for any structure in the residuals. \n",
    "residuals = fitted_model.resid\n",
    "residuals.plot(kind='kde')\n",
    "plt.show()"
   ]
  },
  {
   "cell_type": "code",
   "execution_count": null,
   "metadata": {
    "collapsed": true
   },
   "outputs": [],
   "source": []
  }
 ],
 "metadata": {
  "kernelspec": {
   "display_name": "Python 3",
   "language": "python",
   "name": "python3"
  },
  "language_info": {
   "codemirror_mode": {
    "name": "ipython",
    "version": 3
   },
   "file_extension": ".py",
   "mimetype": "text/x-python",
   "name": "python",
   "nbconvert_exporter": "python",
   "pygments_lexer": "ipython3",
   "version": "3.6.0"
  }
 },
 "nbformat": 4,
 "nbformat_minor": 2
}
