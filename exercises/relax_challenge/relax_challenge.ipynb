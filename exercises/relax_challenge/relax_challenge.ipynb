{
 "cells": [
  {
   "cell_type": "markdown",
   "metadata": {},
   "source": [
    "## Relax Take-Home Challenge\n",
    "### C. Bonfield (Springboard Data Science Career Track)"
   ]
  },
  {
   "cell_type": "markdown",
   "metadata": {},
   "source": [
    "In this notebook, I present my solution to the interview challenge outlined in the PDF contained in this repository. "
   ]
  },
  {
   "cell_type": "code",
   "execution_count": 1,
   "metadata": {
    "collapsed": false
   },
   "outputs": [
    {
     "data": {
      "text/html": [
       "<script>requirejs.config({paths: { 'plotly': ['https://cdn.plot.ly/plotly-latest.min']},});if(!window.Plotly) {{require(['plotly'],function(plotly) {window.Plotly=plotly;});}}</script>"
      ],
      "text/vnd.plotly.v1+html": [
       "<script>requirejs.config({paths: { 'plotly': ['https://cdn.plot.ly/plotly-latest.min']},});if(!window.Plotly) {{require(['plotly'],function(plotly) {window.Plotly=plotly;});}}</script>"
      ]
     },
     "metadata": {},
     "output_type": "display_data"
    }
   ],
   "source": [
    "# Import statements (standard)\n",
    "import json\n",
    "import math\n",
    "import numpy as np\n",
    "import pandas as pd\n",
    "\n",
    "from plotly import tools\n",
    "import plotly.graph_objs as go\n",
    "from plotly.offline import download_plotlyjs, init_notebook_mode, plot, iplot\n",
    "\n",
    "init_notebook_mode(connected=True)\n",
    "\n",
    "# Import statements (ML)\n",
    "from sklearn.preprocessing import LabelEncoder, StandardScaler\n",
    "from sklearn.model_selection import train_test_split, GridSearchCV\n",
    "from sklearn.metrics import accuracy_score, recall_score"
   ]
  },
  {
   "cell_type": "markdown",
   "metadata": {},
   "source": [
    "We are provided with two tables containing the following fields:\n",
    "\n",
    "(1). user table: 'takehome_users.csv'\n",
    "   - `name`: user's name\n",
    "   - `object_id`: user's id\n",
    "   - `email`: email address\n",
    "   - `creation_source`: how the account was created\n",
    "   - `creation_time`: when user created account\n",
    "   - `last_session_creation_time`: timestamp of last login (epoch time)\n",
    "   - `opted_in_to_mailing_list`: opted into marketing emails?\n",
    "   - `enabled_for_marketing_drip`: on regular marketing email drip?\n",
    "   - `org_id`: organization (group of users) that a given user belongs to\n",
    "   - `invited_by_user_id`: id corresponding to user that invited them to join the site\n",
    "\n",
    "(2). usage summary table: 'takehome_user_engagement.csv' (row for each day a user has loggedf into the product)\n",
    "   - `time_stamp`: time stamp corresponding to login\n",
    "   - `user_id`: user's id (match with `object_id` in other table)\n",
    "   - `visited`: indicator (all ones, will drop)"
   ]
  },
  {
   "cell_type": "markdown",
   "metadata": {},
   "source": [
    "#### Loading/Preparing Data"
   ]
  },
  {
   "cell_type": "code",
   "execution_count": 2,
   "metadata": {
    "collapsed": false
   },
   "outputs": [],
   "source": [
    "# Load data.\n",
    "user_df = pd.read_csv('takehome_users.csv', encoding='cp1252')\n",
    "engagement_df = pd.read_csv('takehome_user_engagement.csv')\n",
    "\n",
    "engagement_df.drop('visited', axis=1, inplace=True)\n",
    "engagement_df.columns = ['login_time', 'user_id']\n",
    "engagement_df.login_time = pd.to_datetime(engagement_df.login_time)"
   ]
  },
  {
   "cell_type": "code",
   "execution_count": 3,
   "metadata": {
    "collapsed": false
   },
   "outputs": [
    {
     "data": {
      "text/html": [
       "<div>\n",
       "<table border=\"1\" class=\"dataframe\">\n",
       "  <thead>\n",
       "    <tr style=\"text-align: right;\">\n",
       "      <th></th>\n",
       "      <th>object_id</th>\n",
       "      <th>creation_time</th>\n",
       "      <th>name</th>\n",
       "      <th>email</th>\n",
       "      <th>creation_source</th>\n",
       "      <th>last_session_creation_time</th>\n",
       "      <th>opted_in_to_mailing_list</th>\n",
       "      <th>enabled_for_marketing_drip</th>\n",
       "      <th>org_id</th>\n",
       "      <th>invited_by_user_id</th>\n",
       "    </tr>\n",
       "  </thead>\n",
       "  <tbody>\n",
       "    <tr>\n",
       "      <th>0</th>\n",
       "      <td>1</td>\n",
       "      <td>2014-04-22 03:53:30</td>\n",
       "      <td>Clausen August</td>\n",
       "      <td>AugustCClausen@yahoo.com</td>\n",
       "      <td>GUEST_INVITE</td>\n",
       "      <td>1.398139e+09</td>\n",
       "      <td>1</td>\n",
       "      <td>0</td>\n",
       "      <td>11</td>\n",
       "      <td>10803.0</td>\n",
       "    </tr>\n",
       "    <tr>\n",
       "      <th>1</th>\n",
       "      <td>2</td>\n",
       "      <td>2013-11-15 03:45:04</td>\n",
       "      <td>Poole Matthew</td>\n",
       "      <td>MatthewPoole@gustr.com</td>\n",
       "      <td>ORG_INVITE</td>\n",
       "      <td>1.396238e+09</td>\n",
       "      <td>0</td>\n",
       "      <td>0</td>\n",
       "      <td>1</td>\n",
       "      <td>316.0</td>\n",
       "    </tr>\n",
       "    <tr>\n",
       "      <th>2</th>\n",
       "      <td>3</td>\n",
       "      <td>2013-03-19 23:14:52</td>\n",
       "      <td>Bottrill Mitchell</td>\n",
       "      <td>MitchellBottrill@gustr.com</td>\n",
       "      <td>ORG_INVITE</td>\n",
       "      <td>1.363735e+09</td>\n",
       "      <td>0</td>\n",
       "      <td>0</td>\n",
       "      <td>94</td>\n",
       "      <td>1525.0</td>\n",
       "    </tr>\n",
       "    <tr>\n",
       "      <th>3</th>\n",
       "      <td>4</td>\n",
       "      <td>2013-05-21 08:09:28</td>\n",
       "      <td>Clausen Nicklas</td>\n",
       "      <td>NicklasSClausen@yahoo.com</td>\n",
       "      <td>GUEST_INVITE</td>\n",
       "      <td>1.369210e+09</td>\n",
       "      <td>0</td>\n",
       "      <td>0</td>\n",
       "      <td>1</td>\n",
       "      <td>5151.0</td>\n",
       "    </tr>\n",
       "    <tr>\n",
       "      <th>4</th>\n",
       "      <td>5</td>\n",
       "      <td>2013-01-17 10:14:20</td>\n",
       "      <td>Raw Grace</td>\n",
       "      <td>GraceRaw@yahoo.com</td>\n",
       "      <td>GUEST_INVITE</td>\n",
       "      <td>1.358850e+09</td>\n",
       "      <td>0</td>\n",
       "      <td>0</td>\n",
       "      <td>193</td>\n",
       "      <td>5240.0</td>\n",
       "    </tr>\n",
       "  </tbody>\n",
       "</table>\n",
       "</div>"
      ],
      "text/plain": [
       "   object_id        creation_time               name  \\\n",
       "0          1  2014-04-22 03:53:30     Clausen August   \n",
       "1          2  2013-11-15 03:45:04      Poole Matthew   \n",
       "2          3  2013-03-19 23:14:52  Bottrill Mitchell   \n",
       "3          4  2013-05-21 08:09:28    Clausen Nicklas   \n",
       "4          5  2013-01-17 10:14:20          Raw Grace   \n",
       "\n",
       "                        email creation_source  last_session_creation_time  \\\n",
       "0    AugustCClausen@yahoo.com    GUEST_INVITE                1.398139e+09   \n",
       "1      MatthewPoole@gustr.com      ORG_INVITE                1.396238e+09   \n",
       "2  MitchellBottrill@gustr.com      ORG_INVITE                1.363735e+09   \n",
       "3   NicklasSClausen@yahoo.com    GUEST_INVITE                1.369210e+09   \n",
       "4          GraceRaw@yahoo.com    GUEST_INVITE                1.358850e+09   \n",
       "\n",
       "   opted_in_to_mailing_list  enabled_for_marketing_drip  org_id  \\\n",
       "0                         1                           0      11   \n",
       "1                         0                           0       1   \n",
       "2                         0                           0      94   \n",
       "3                         0                           0       1   \n",
       "4                         0                           0     193   \n",
       "\n",
       "   invited_by_user_id  \n",
       "0             10803.0  \n",
       "1               316.0  \n",
       "2              1525.0  \n",
       "3              5151.0  \n",
       "4              5240.0  "
      ]
     },
     "execution_count": 3,
     "metadata": {},
     "output_type": "execute_result"
    }
   ],
   "source": [
    "user_df.head()"
   ]
  },
  {
   "cell_type": "code",
   "execution_count": 4,
   "metadata": {
    "collapsed": false
   },
   "outputs": [
    {
     "data": {
      "text/html": [
       "<div>\n",
       "<table border=\"1\" class=\"dataframe\">\n",
       "  <thead>\n",
       "    <tr style=\"text-align: right;\">\n",
       "      <th></th>\n",
       "      <th>login_time</th>\n",
       "      <th>user_id</th>\n",
       "    </tr>\n",
       "  </thead>\n",
       "  <tbody>\n",
       "    <tr>\n",
       "      <th>0</th>\n",
       "      <td>2014-04-22 03:53:30</td>\n",
       "      <td>1</td>\n",
       "    </tr>\n",
       "    <tr>\n",
       "      <th>1</th>\n",
       "      <td>2013-11-15 03:45:04</td>\n",
       "      <td>2</td>\n",
       "    </tr>\n",
       "    <tr>\n",
       "      <th>2</th>\n",
       "      <td>2013-11-29 03:45:04</td>\n",
       "      <td>2</td>\n",
       "    </tr>\n",
       "    <tr>\n",
       "      <th>3</th>\n",
       "      <td>2013-12-09 03:45:04</td>\n",
       "      <td>2</td>\n",
       "    </tr>\n",
       "    <tr>\n",
       "      <th>4</th>\n",
       "      <td>2013-12-25 03:45:04</td>\n",
       "      <td>2</td>\n",
       "    </tr>\n",
       "    <tr>\n",
       "      <th>5</th>\n",
       "      <td>2013-12-31 03:45:04</td>\n",
       "      <td>2</td>\n",
       "    </tr>\n",
       "    <tr>\n",
       "      <th>6</th>\n",
       "      <td>2014-01-08 03:45:04</td>\n",
       "      <td>2</td>\n",
       "    </tr>\n",
       "    <tr>\n",
       "      <th>7</th>\n",
       "      <td>2014-02-03 03:45:04</td>\n",
       "      <td>2</td>\n",
       "    </tr>\n",
       "    <tr>\n",
       "      <th>8</th>\n",
       "      <td>2014-02-08 03:45:04</td>\n",
       "      <td>2</td>\n",
       "    </tr>\n",
       "    <tr>\n",
       "      <th>9</th>\n",
       "      <td>2014-02-09 03:45:04</td>\n",
       "      <td>2</td>\n",
       "    </tr>\n",
       "    <tr>\n",
       "      <th>10</th>\n",
       "      <td>2014-02-13 03:45:04</td>\n",
       "      <td>2</td>\n",
       "    </tr>\n",
       "    <tr>\n",
       "      <th>11</th>\n",
       "      <td>2014-02-16 03:45:04</td>\n",
       "      <td>2</td>\n",
       "    </tr>\n",
       "    <tr>\n",
       "      <th>12</th>\n",
       "      <td>2014-03-09 03:45:04</td>\n",
       "      <td>2</td>\n",
       "    </tr>\n",
       "    <tr>\n",
       "      <th>13</th>\n",
       "      <td>2014-03-13 03:45:04</td>\n",
       "      <td>2</td>\n",
       "    </tr>\n",
       "    <tr>\n",
       "      <th>14</th>\n",
       "      <td>2014-03-31 03:45:04</td>\n",
       "      <td>2</td>\n",
       "    </tr>\n",
       "    <tr>\n",
       "      <th>15</th>\n",
       "      <td>2013-03-19 23:14:52</td>\n",
       "      <td>3</td>\n",
       "    </tr>\n",
       "    <tr>\n",
       "      <th>16</th>\n",
       "      <td>2013-05-22 08:09:28</td>\n",
       "      <td>4</td>\n",
       "    </tr>\n",
       "    <tr>\n",
       "      <th>17</th>\n",
       "      <td>2013-01-22 10:14:20</td>\n",
       "      <td>5</td>\n",
       "    </tr>\n",
       "    <tr>\n",
       "      <th>18</th>\n",
       "      <td>2013-12-19 03:37:06</td>\n",
       "      <td>6</td>\n",
       "    </tr>\n",
       "    <tr>\n",
       "      <th>19</th>\n",
       "      <td>2012-12-20 13:24:32</td>\n",
       "      <td>7</td>\n",
       "    </tr>\n",
       "  </tbody>\n",
       "</table>\n",
       "</div>"
      ],
      "text/plain": [
       "            login_time  user_id\n",
       "0  2014-04-22 03:53:30        1\n",
       "1  2013-11-15 03:45:04        2\n",
       "2  2013-11-29 03:45:04        2\n",
       "3  2013-12-09 03:45:04        2\n",
       "4  2013-12-25 03:45:04        2\n",
       "5  2013-12-31 03:45:04        2\n",
       "6  2014-01-08 03:45:04        2\n",
       "7  2014-02-03 03:45:04        2\n",
       "8  2014-02-08 03:45:04        2\n",
       "9  2014-02-09 03:45:04        2\n",
       "10 2014-02-13 03:45:04        2\n",
       "11 2014-02-16 03:45:04        2\n",
       "12 2014-03-09 03:45:04        2\n",
       "13 2014-03-13 03:45:04        2\n",
       "14 2014-03-31 03:45:04        2\n",
       "15 2013-03-19 23:14:52        3\n",
       "16 2013-05-22 08:09:28        4\n",
       "17 2013-01-22 10:14:20        5\n",
       "18 2013-12-19 03:37:06        6\n",
       "19 2012-12-20 13:24:32        7"
      ]
     },
     "execution_count": 4,
     "metadata": {},
     "output_type": "execute_result"
    }
   ],
   "source": [
    "engagement_df.head(20)"
   ]
  },
  {
   "cell_type": "markdown",
   "metadata": {},
   "source": [
    "Now, we need to identify \"adopted users\". As stated in the instructions, this is defined as a user who *has logged into the product on three separate days in at least one seven-day period*. To identify adopted users, we need only make use of the engagement table. \n",
    "\n",
    "As a use case, consider `user_id` = 2. There are a few seven-day intervals that would qualify this user as \"adopted\", but the first time this occurs starts on 2/3/2014 and ends on 2/9/2014. "
   ]
  },
  {
   "cell_type": "code",
   "execution_count": 5,
   "metadata": {
    "collapsed": true
   },
   "outputs": [],
   "source": [
    "def find_adopted_users(df):\n",
    "    \"\"\"\n",
    "    Identify adopted users. We define adopted users as users who have logged into the product on \n",
    "    three separate days in at least one seven-day period.\n",
    "    \n",
    "    Note: Probably not the most efficient way of accomplishing this task, but it works!\n",
    "    \n",
    "    Inputs:\n",
    "        df: engagement table (first column: login_time, second column: user_id)\n",
    "    \n",
    "    Returns:\n",
    "        adopted_df: adopted users (first column: user_id, second column: is_adopted)\n",
    "    \"\"\"\n",
    "    \n",
    "    unique_users = df.user_id.unique()\n",
    "    adopted_dict = dict()\n",
    "    \n",
    "    for u in unique_users:\n",
    "        #print(u)\n",
    "        is_adopted = 0\n",
    "        user_df = df.loc[df.user_id == u].reset_index()\n",
    "        \n",
    "        for i in range(len(user_df.index)):\n",
    "            if (i == (len(user_df.index)-2)) or (i == (len(user_df.index)-1)):\n",
    "                continue\n",
    "            else:\n",
    "                if (user_df.login_time[i+1] - user_df.login_time[i]).days < 7:\n",
    "                    if (user_df.login_time[i+2] - user_df.login_time[i]).days <= 7:\n",
    "                        is_adopted = 1\n",
    "                        break\n",
    "                    else:\n",
    "                        continue\n",
    "                        \n",
    "        adopted_dict[u] = is_adopted\n",
    "        \n",
    "    return adopted_dict"
   ]
  },
  {
   "cell_type": "code",
   "execution_count": 6,
   "metadata": {
    "collapsed": false
   },
   "outputs": [],
   "source": [
    "ad_dict = find_adopted_users(engagement_df)\n",
    "ad_df = pd.DataFrame.from_dict(ad_dict, orient='index').reset_index()\n",
    "ad_df.columns=['user_id', 'is_adopted']"
   ]
  },
  {
   "cell_type": "markdown",
   "metadata": {},
   "source": [
    "Just to make sure that our code did as we intended, let's examine a couple of the adopted users."
   ]
  },
  {
   "cell_type": "code",
   "execution_count": 7,
   "metadata": {
    "collapsed": false
   },
   "outputs": [],
   "source": [
    "ad_users_list = ad_df.loc[ad_df.is_adopted==1].user_id.tolist()\n",
    "#print(ad_users_list)"
   ]
  },
  {
   "cell_type": "code",
   "execution_count": 8,
   "metadata": {
    "collapsed": false
   },
   "outputs": [
    {
     "data": {
      "text/html": [
       "<div>\n",
       "<table border=\"1\" class=\"dataframe\">\n",
       "  <thead>\n",
       "    <tr style=\"text-align: right;\">\n",
       "      <th></th>\n",
       "      <th>login_time</th>\n",
       "      <th>user_id</th>\n",
       "    </tr>\n",
       "  </thead>\n",
       "  <tbody>\n",
       "    <tr>\n",
       "      <th>20</th>\n",
       "      <td>2013-01-16 22:08:03</td>\n",
       "      <td>10</td>\n",
       "    </tr>\n",
       "    <tr>\n",
       "      <th>21</th>\n",
       "      <td>2013-01-22 22:08:03</td>\n",
       "      <td>10</td>\n",
       "    </tr>\n",
       "    <tr>\n",
       "      <th>22</th>\n",
       "      <td>2013-01-30 22:08:03</td>\n",
       "      <td>10</td>\n",
       "    </tr>\n",
       "    <tr>\n",
       "      <th>23</th>\n",
       "      <td>2013-02-04 22:08:03</td>\n",
       "      <td>10</td>\n",
       "    </tr>\n",
       "    <tr>\n",
       "      <th>24</th>\n",
       "      <td>2013-02-06 22:08:03</td>\n",
       "      <td>10</td>\n",
       "    </tr>\n",
       "    <tr>\n",
       "      <th>25</th>\n",
       "      <td>2013-02-14 22:08:03</td>\n",
       "      <td>10</td>\n",
       "    </tr>\n",
       "    <tr>\n",
       "      <th>26</th>\n",
       "      <td>2013-02-17 22:08:03</td>\n",
       "      <td>10</td>\n",
       "    </tr>\n",
       "    <tr>\n",
       "      <th>27</th>\n",
       "      <td>2013-02-19 22:08:03</td>\n",
       "      <td>10</td>\n",
       "    </tr>\n",
       "    <tr>\n",
       "      <th>28</th>\n",
       "      <td>2013-02-26 22:08:03</td>\n",
       "      <td>10</td>\n",
       "    </tr>\n",
       "    <tr>\n",
       "      <th>29</th>\n",
       "      <td>2013-03-01 22:08:03</td>\n",
       "      <td>10</td>\n",
       "    </tr>\n",
       "  </tbody>\n",
       "</table>\n",
       "</div>"
      ],
      "text/plain": [
       "            login_time  user_id\n",
       "20 2013-01-16 22:08:03       10\n",
       "21 2013-01-22 22:08:03       10\n",
       "22 2013-01-30 22:08:03       10\n",
       "23 2013-02-04 22:08:03       10\n",
       "24 2013-02-06 22:08:03       10\n",
       "25 2013-02-14 22:08:03       10\n",
       "26 2013-02-17 22:08:03       10\n",
       "27 2013-02-19 22:08:03       10\n",
       "28 2013-02-26 22:08:03       10\n",
       "29 2013-03-01 22:08:03       10"
      ]
     },
     "execution_count": 8,
     "metadata": {},
     "output_type": "execute_result"
    }
   ],
   "source": [
    "engagement_df.loc[engagement_df.user_id==10].head(10)"
   ]
  },
  {
   "cell_type": "code",
   "execution_count": 9,
   "metadata": {
    "collapsed": false
   },
   "outputs": [
    {
     "data": {
      "text/html": [
       "<div>\n",
       "<table border=\"1\" class=\"dataframe\">\n",
       "  <thead>\n",
       "    <tr style=\"text-align: right;\">\n",
       "      <th></th>\n",
       "      <th>login_time</th>\n",
       "      <th>user_id</th>\n",
       "    </tr>\n",
       "  </thead>\n",
       "  <tbody>\n",
       "    <tr>\n",
       "      <th>25271</th>\n",
       "      <td>2013-10-25 17:27:05</td>\n",
       "      <td>1506</td>\n",
       "    </tr>\n",
       "    <tr>\n",
       "      <th>25272</th>\n",
       "      <td>2013-11-11 17:27:05</td>\n",
       "      <td>1506</td>\n",
       "    </tr>\n",
       "    <tr>\n",
       "      <th>25273</th>\n",
       "      <td>2013-11-15 17:27:05</td>\n",
       "      <td>1506</td>\n",
       "    </tr>\n",
       "    <tr>\n",
       "      <th>25274</th>\n",
       "      <td>2013-11-18 17:27:05</td>\n",
       "      <td>1506</td>\n",
       "    </tr>\n",
       "    <tr>\n",
       "      <th>25275</th>\n",
       "      <td>2013-11-21 17:27:05</td>\n",
       "      <td>1506</td>\n",
       "    </tr>\n",
       "    <tr>\n",
       "      <th>25276</th>\n",
       "      <td>2013-11-23 17:27:05</td>\n",
       "      <td>1506</td>\n",
       "    </tr>\n",
       "    <tr>\n",
       "      <th>25277</th>\n",
       "      <td>2013-11-27 17:27:05</td>\n",
       "      <td>1506</td>\n",
       "    </tr>\n",
       "    <tr>\n",
       "      <th>25278</th>\n",
       "      <td>2013-12-12 17:27:05</td>\n",
       "      <td>1506</td>\n",
       "    </tr>\n",
       "    <tr>\n",
       "      <th>25279</th>\n",
       "      <td>2013-12-16 17:27:05</td>\n",
       "      <td>1506</td>\n",
       "    </tr>\n",
       "  </tbody>\n",
       "</table>\n",
       "</div>"
      ],
      "text/plain": [
       "               login_time  user_id\n",
       "25271 2013-10-25 17:27:05     1506\n",
       "25272 2013-11-11 17:27:05     1506\n",
       "25273 2013-11-15 17:27:05     1506\n",
       "25274 2013-11-18 17:27:05     1506\n",
       "25275 2013-11-21 17:27:05     1506\n",
       "25276 2013-11-23 17:27:05     1506\n",
       "25277 2013-11-27 17:27:05     1506\n",
       "25278 2013-12-12 17:27:05     1506\n",
       "25279 2013-12-16 17:27:05     1506"
      ]
     },
     "execution_count": 9,
     "metadata": {},
     "output_type": "execute_result"
    }
   ],
   "source": [
    "engagement_df.loc[engagement_df.user_id==1506].head(10)"
   ]
  },
  {
   "cell_type": "code",
   "execution_count": 10,
   "metadata": {
    "collapsed": false
   },
   "outputs": [
    {
     "data": {
      "text/html": [
       "<div>\n",
       "<table border=\"1\" class=\"dataframe\">\n",
       "  <thead>\n",
       "    <tr style=\"text-align: right;\">\n",
       "      <th></th>\n",
       "      <th>login_time</th>\n",
       "      <th>user_id</th>\n",
       "    </tr>\n",
       "  </thead>\n",
       "  <tbody>\n",
       "    <tr>\n",
       "      <th>194472</th>\n",
       "      <td>2014-03-01 12:01:05</td>\n",
       "      <td>11036</td>\n",
       "    </tr>\n",
       "    <tr>\n",
       "      <th>194473</th>\n",
       "      <td>2014-03-02 12:01:05</td>\n",
       "      <td>11036</td>\n",
       "    </tr>\n",
       "    <tr>\n",
       "      <th>194474</th>\n",
       "      <td>2014-03-09 12:01:05</td>\n",
       "      <td>11036</td>\n",
       "    </tr>\n",
       "    <tr>\n",
       "      <th>194475</th>\n",
       "      <td>2014-03-12 12:01:05</td>\n",
       "      <td>11036</td>\n",
       "    </tr>\n",
       "    <tr>\n",
       "      <th>194476</th>\n",
       "      <td>2014-04-09 12:01:05</td>\n",
       "      <td>11036</td>\n",
       "    </tr>\n",
       "    <tr>\n",
       "      <th>194477</th>\n",
       "      <td>2014-04-11 12:01:05</td>\n",
       "      <td>11036</td>\n",
       "    </tr>\n",
       "    <tr>\n",
       "      <th>194478</th>\n",
       "      <td>2014-04-12 12:01:05</td>\n",
       "      <td>11036</td>\n",
       "    </tr>\n",
       "    <tr>\n",
       "      <th>194479</th>\n",
       "      <td>2014-05-05 12:01:05</td>\n",
       "      <td>11036</td>\n",
       "    </tr>\n",
       "    <tr>\n",
       "      <th>194480</th>\n",
       "      <td>2014-05-08 12:01:05</td>\n",
       "      <td>11036</td>\n",
       "    </tr>\n",
       "    <tr>\n",
       "      <th>194481</th>\n",
       "      <td>2014-05-21 12:01:05</td>\n",
       "      <td>11036</td>\n",
       "    </tr>\n",
       "  </tbody>\n",
       "</table>\n",
       "</div>"
      ],
      "text/plain": [
       "                login_time  user_id\n",
       "194472 2014-03-01 12:01:05    11036\n",
       "194473 2014-03-02 12:01:05    11036\n",
       "194474 2014-03-09 12:01:05    11036\n",
       "194475 2014-03-12 12:01:05    11036\n",
       "194476 2014-04-09 12:01:05    11036\n",
       "194477 2014-04-11 12:01:05    11036\n",
       "194478 2014-04-12 12:01:05    11036\n",
       "194479 2014-05-05 12:01:05    11036\n",
       "194480 2014-05-08 12:01:05    11036\n",
       "194481 2014-05-21 12:01:05    11036"
      ]
     },
     "execution_count": 10,
     "metadata": {},
     "output_type": "execute_result"
    }
   ],
   "source": [
    "engagement_df.loc[engagement_df.user_id==11036].head(10)"
   ]
  },
  {
   "cell_type": "markdown",
   "metadata": {},
   "source": [
    "We can confirm visually that these users would indeed be classified as \"adopted\" based on our definition. With that task performed, let's add the `is_adopted` column to our user table so that we may do a bit of exploratory analysis!"
   ]
  },
  {
   "cell_type": "code",
   "execution_count": 11,
   "metadata": {
    "collapsed": false
   },
   "outputs": [],
   "source": [
    "# Merge dataframes.\n",
    "complete_df = user_df.merge(right=ad_df, left_on='object_id', right_on='user_id')\n",
    "complete_df.drop('user_id', axis=1, inplace=True) # drop duplicate column"
   ]
  },
  {
   "cell_type": "code",
   "execution_count": 12,
   "metadata": {
    "collapsed": false
   },
   "outputs": [
    {
     "data": {
      "text/html": [
       "<div>\n",
       "<table border=\"1\" class=\"dataframe\">\n",
       "  <thead>\n",
       "    <tr style=\"text-align: right;\">\n",
       "      <th></th>\n",
       "      <th>object_id</th>\n",
       "      <th>creation_time</th>\n",
       "      <th>name</th>\n",
       "      <th>email</th>\n",
       "      <th>creation_source</th>\n",
       "      <th>last_session_creation_time</th>\n",
       "      <th>opted_in_to_mailing_list</th>\n",
       "      <th>enabled_for_marketing_drip</th>\n",
       "      <th>org_id</th>\n",
       "      <th>invited_by_user_id</th>\n",
       "      <th>is_adopted</th>\n",
       "    </tr>\n",
       "  </thead>\n",
       "  <tbody>\n",
       "    <tr>\n",
       "      <th>0</th>\n",
       "      <td>1</td>\n",
       "      <td>2014-04-22 03:53:30</td>\n",
       "      <td>Clausen August</td>\n",
       "      <td>AugustCClausen@yahoo.com</td>\n",
       "      <td>GUEST_INVITE</td>\n",
       "      <td>1.398139e+09</td>\n",
       "      <td>1</td>\n",
       "      <td>0</td>\n",
       "      <td>11</td>\n",
       "      <td>10803.0</td>\n",
       "      <td>0</td>\n",
       "    </tr>\n",
       "    <tr>\n",
       "      <th>1</th>\n",
       "      <td>2</td>\n",
       "      <td>2013-11-15 03:45:04</td>\n",
       "      <td>Poole Matthew</td>\n",
       "      <td>MatthewPoole@gustr.com</td>\n",
       "      <td>ORG_INVITE</td>\n",
       "      <td>1.396238e+09</td>\n",
       "      <td>0</td>\n",
       "      <td>0</td>\n",
       "      <td>1</td>\n",
       "      <td>316.0</td>\n",
       "      <td>1</td>\n",
       "    </tr>\n",
       "    <tr>\n",
       "      <th>2</th>\n",
       "      <td>3</td>\n",
       "      <td>2013-03-19 23:14:52</td>\n",
       "      <td>Bottrill Mitchell</td>\n",
       "      <td>MitchellBottrill@gustr.com</td>\n",
       "      <td>ORG_INVITE</td>\n",
       "      <td>1.363735e+09</td>\n",
       "      <td>0</td>\n",
       "      <td>0</td>\n",
       "      <td>94</td>\n",
       "      <td>1525.0</td>\n",
       "      <td>0</td>\n",
       "    </tr>\n",
       "    <tr>\n",
       "      <th>3</th>\n",
       "      <td>4</td>\n",
       "      <td>2013-05-21 08:09:28</td>\n",
       "      <td>Clausen Nicklas</td>\n",
       "      <td>NicklasSClausen@yahoo.com</td>\n",
       "      <td>GUEST_INVITE</td>\n",
       "      <td>1.369210e+09</td>\n",
       "      <td>0</td>\n",
       "      <td>0</td>\n",
       "      <td>1</td>\n",
       "      <td>5151.0</td>\n",
       "      <td>0</td>\n",
       "    </tr>\n",
       "    <tr>\n",
       "      <th>4</th>\n",
       "      <td>5</td>\n",
       "      <td>2013-01-17 10:14:20</td>\n",
       "      <td>Raw Grace</td>\n",
       "      <td>GraceRaw@yahoo.com</td>\n",
       "      <td>GUEST_INVITE</td>\n",
       "      <td>1.358850e+09</td>\n",
       "      <td>0</td>\n",
       "      <td>0</td>\n",
       "      <td>193</td>\n",
       "      <td>5240.0</td>\n",
       "      <td>0</td>\n",
       "    </tr>\n",
       "  </tbody>\n",
       "</table>\n",
       "</div>"
      ],
      "text/plain": [
       "   object_id        creation_time               name  \\\n",
       "0          1  2014-04-22 03:53:30     Clausen August   \n",
       "1          2  2013-11-15 03:45:04      Poole Matthew   \n",
       "2          3  2013-03-19 23:14:52  Bottrill Mitchell   \n",
       "3          4  2013-05-21 08:09:28    Clausen Nicklas   \n",
       "4          5  2013-01-17 10:14:20          Raw Grace   \n",
       "\n",
       "                        email creation_source  last_session_creation_time  \\\n",
       "0    AugustCClausen@yahoo.com    GUEST_INVITE                1.398139e+09   \n",
       "1      MatthewPoole@gustr.com      ORG_INVITE                1.396238e+09   \n",
       "2  MitchellBottrill@gustr.com      ORG_INVITE                1.363735e+09   \n",
       "3   NicklasSClausen@yahoo.com    GUEST_INVITE                1.369210e+09   \n",
       "4          GraceRaw@yahoo.com    GUEST_INVITE                1.358850e+09   \n",
       "\n",
       "   opted_in_to_mailing_list  enabled_for_marketing_drip  org_id  \\\n",
       "0                         1                           0      11   \n",
       "1                         0                           0       1   \n",
       "2                         0                           0      94   \n",
       "3                         0                           0       1   \n",
       "4                         0                           0     193   \n",
       "\n",
       "   invited_by_user_id  is_adopted  \n",
       "0             10803.0           0  \n",
       "1               316.0           1  \n",
       "2              1525.0           0  \n",
       "3              5151.0           0  \n",
       "4              5240.0           0  "
      ]
     },
     "execution_count": 12,
     "metadata": {},
     "output_type": "execute_result"
    }
   ],
   "source": [
    "complete_df.head()"
   ]
  },
  {
   "cell_type": "markdown",
   "metadata": {},
   "source": [
    "#### Exploratory Data Analysis"
   ]
  },
  {
   "cell_type": "markdown",
   "metadata": {},
   "source": [
    "First, let's see if we can deduce anything between our categorical/boolean columns (`creation_source`, `opted_in_to_mailing_list`, `enabled_for_marketing_drip`) and `is_adopted`. (In addition to visualizing the differences, we'll also perform a sequence of two proportion z-tests to determine if there is are statistically significant differences here. The null hypothesis will be that there is no difference in the proportions.)"
   ]
  },
  {
   "cell_type": "code",
   "execution_count": 13,
   "metadata": {
    "collapsed": true
   },
   "outputs": [],
   "source": [
    "import math \n",
    "from scipy.stats import norm\n",
    "\n",
    "def two_proportion_ztest(p1, p2, n1, n2, two_sided=True):\n",
    "    \n",
    "    z = abs((p1 - p2) / math.sqrt((p1*n1 + p2*n2) / (n1+n2) * ((1 / n1) + (1 / n2))))\n",
    "    \n",
    "    if two_sided:\n",
    "        p = 2.* (1. - norm.cdf(z, loc=0, scale=1))\n",
    "    else:\n",
    "        p = 1. - norm.cdf(z, loc=0, scale=1)\n",
    "    \n",
    "    return z, p "
   ]
  },
  {
   "cell_type": "code",
   "execution_count": 14,
   "metadata": {
    "collapsed": false
   },
   "outputs": [],
   "source": [
    "# First, examine the distribution of creation sources. \n",
    "cs_counts = complete_df.creation_source.value_counts()\n",
    "classes = list(cs_counts.index)\n",
    "counts = np.array(cs_counts)"
   ]
  },
  {
   "cell_type": "code",
   "execution_count": 15,
   "metadata": {
    "collapsed": false
   },
   "outputs": [
    {
     "data": {
      "application/vnd.plotly.v1+json": {
       "data": [
        {
         "marker": {
          "color": "blue"
         },
         "type": "bar",
         "x": [
          "ORG_INVITE",
          "SIGNUP",
          "GUEST_INVITE",
          "SIGNUP_GOOGLE_AUTH",
          "PERSONAL_PROJECTS"
         ],
         "y": [
          3188,
          1898,
          1588,
          1385,
          764
         ]
        }
       ],
       "layout": {
        "title": "Creation Sources",
        "xaxis": {
         "autorange": "reversed",
         "tickfont": {
          "size": 10
         }
        },
        "yaxis": {
         "title": "Count"
        }
       }
      },
      "text/html": [
       "<div id=\"a23f3f44-d908-47d9-8453-53b44d01123b\" style=\"height: 525px; width: 100%;\" class=\"plotly-graph-div\"></div><script type=\"text/javascript\">require([\"plotly\"], function(Plotly) { window.PLOTLYENV=window.PLOTLYENV || {};window.PLOTLYENV.BASE_URL=\"https://plot.ly\";Plotly.newPlot(\"a23f3f44-d908-47d9-8453-53b44d01123b\", [{\"type\": \"bar\", \"x\": [\"ORG_INVITE\", \"SIGNUP\", \"GUEST_INVITE\", \"SIGNUP_GOOGLE_AUTH\", \"PERSONAL_PROJECTS\"], \"y\": [3188, 1898, 1588, 1385, 764], \"marker\": {\"color\": \"blue\"}}], {\"title\": \"Creation Sources\", \"yaxis\": {\"title\": \"Count\"}, \"xaxis\": {\"autorange\": \"reversed\", \"tickfont\": {\"size\": 10}}}, {\"showLink\": true, \"linkText\": \"Export to plot.ly\"})});</script>"
      ],
      "text/vnd.plotly.v1+html": [
       "<div id=\"a23f3f44-d908-47d9-8453-53b44d01123b\" style=\"height: 525px; width: 100%;\" class=\"plotly-graph-div\"></div><script type=\"text/javascript\">require([\"plotly\"], function(Plotly) { window.PLOTLYENV=window.PLOTLYENV || {};window.PLOTLYENV.BASE_URL=\"https://plot.ly\";Plotly.newPlot(\"a23f3f44-d908-47d9-8453-53b44d01123b\", [{\"type\": \"bar\", \"x\": [\"ORG_INVITE\", \"SIGNUP\", \"GUEST_INVITE\", \"SIGNUP_GOOGLE_AUTH\", \"PERSONAL_PROJECTS\"], \"y\": [3188, 1898, 1588, 1385, 764], \"marker\": {\"color\": \"blue\"}}], {\"title\": \"Creation Sources\", \"yaxis\": {\"title\": \"Count\"}, \"xaxis\": {\"autorange\": \"reversed\", \"tickfont\": {\"size\": 10}}}, {\"showLink\": true, \"linkText\": \"Export to plot.ly\"})});</script>"
      ]
     },
     "metadata": {},
     "output_type": "display_data"
    }
   ],
   "source": [
    "trace = go.Bar(\n",
    "    x=classes,\n",
    "    y=counts,\n",
    "    marker = dict(color='blue')\n",
    ")\n",
    "\n",
    "data=[trace]\n",
    "\n",
    "layout = dict(title = 'Creation Sources',\n",
    "              yaxis = dict(title = 'Count'),\n",
    "              xaxis = dict(autorange='reversed',\n",
    "                           tickfont=dict(size=10))\n",
    "              )\n",
    "\n",
    "fig = dict(data=data, layout=layout)\n",
    "iplot(fig, filename='cs-counts')"
   ]
  },
  {
   "cell_type": "code",
   "execution_count": 16,
   "metadata": {
    "collapsed": false
   },
   "outputs": [],
   "source": [
    "# Now, examine relative frequency of is_adopted for each creation source.\n",
    "cs_dict = dict() \n",
    "\n",
    "for cs in classes:\n",
    "    cs_df = complete_df.loc[complete_df.creation_source == cs]\n",
    "    isa_freq = cs_df.is_adopted.value_counts()[1] / len(cs_df.index)\n",
    "    cs_dict[cs] = isa_freq"
   ]
  },
  {
   "cell_type": "code",
   "execution_count": 17,
   "metadata": {
    "collapsed": false
   },
   "outputs": [
    {
     "data": {
      "application/vnd.plotly.v1+json": {
       "data": [
        {
         "marker": {
          "color": "blue"
         },
         "type": "bar",
         "x": [
          "ORG_INVITE",
          "SIGNUP",
          "GUEST_INVITE",
          "SIGNUP_GOOGLE_AUTH",
          "PERSONAL_PROJECTS"
         ],
         "y": [
          0.18005018820577165,
          0.15911485774499473,
          0.232367758186398,
          0.17256317689530687,
          0.225130890052356
         ]
        }
       ],
       "layout": {
        "title": "RAF within Creation Sources",
        "xaxis": {
         "autorange": "reversed",
         "tickfont": {
          "size": 10
         }
        },
        "yaxis": {
         "title": "Relative Frequency (within CS)"
        }
       }
      },
      "text/html": [
       "<div id=\"02bdbc86-c946-447e-b9a6-f41240e3111f\" style=\"height: 525px; width: 100%;\" class=\"plotly-graph-div\"></div><script type=\"text/javascript\">require([\"plotly\"], function(Plotly) { window.PLOTLYENV=window.PLOTLYENV || {};window.PLOTLYENV.BASE_URL=\"https://plot.ly\";Plotly.newPlot(\"02bdbc86-c946-447e-b9a6-f41240e3111f\", [{\"type\": \"bar\", \"x\": [\"ORG_INVITE\", \"SIGNUP\", \"GUEST_INVITE\", \"SIGNUP_GOOGLE_AUTH\", \"PERSONAL_PROJECTS\"], \"y\": [0.18005018820577165, 0.15911485774499473, 0.232367758186398, 0.17256317689530687, 0.225130890052356], \"marker\": {\"color\": \"blue\"}}], {\"title\": \"RAF within Creation Sources\", \"yaxis\": {\"title\": \"Relative Frequency (within CS)\"}, \"xaxis\": {\"autorange\": \"reversed\", \"tickfont\": {\"size\": 10}}}, {\"showLink\": true, \"linkText\": \"Export to plot.ly\"})});</script>"
      ],
      "text/vnd.plotly.v1+html": [
       "<div id=\"02bdbc86-c946-447e-b9a6-f41240e3111f\" style=\"height: 525px; width: 100%;\" class=\"plotly-graph-div\"></div><script type=\"text/javascript\">require([\"plotly\"], function(Plotly) { window.PLOTLYENV=window.PLOTLYENV || {};window.PLOTLYENV.BASE_URL=\"https://plot.ly\";Plotly.newPlot(\"02bdbc86-c946-447e-b9a6-f41240e3111f\", [{\"type\": \"bar\", \"x\": [\"ORG_INVITE\", \"SIGNUP\", \"GUEST_INVITE\", \"SIGNUP_GOOGLE_AUTH\", \"PERSONAL_PROJECTS\"], \"y\": [0.18005018820577165, 0.15911485774499473, 0.232367758186398, 0.17256317689530687, 0.225130890052356], \"marker\": {\"color\": \"blue\"}}], {\"title\": \"RAF within Creation Sources\", \"yaxis\": {\"title\": \"Relative Frequency (within CS)\"}, \"xaxis\": {\"autorange\": \"reversed\", \"tickfont\": {\"size\": 10}}}, {\"showLink\": true, \"linkText\": \"Export to plot.ly\"})});</script>"
      ]
     },
     "metadata": {},
     "output_type": "display_data"
    }
   ],
   "source": [
    "trace = go.Bar(\n",
    "    x=list(cs_dict.keys()),\n",
    "    y=list(cs_dict.values()),\n",
    "    marker = dict(color='blue')\n",
    ")\n",
    "\n",
    "data=[trace]\n",
    "\n",
    "layout = dict(title = 'RAF within Creation Sources',\n",
    "              yaxis = dict(title = 'Relative Frequency (within CS)'),\n",
    "              xaxis = dict(autorange='reversed',\n",
    "                           tickfont=dict(size=10))\n",
    "              )\n",
    "\n",
    "fig = dict(data=data, layout=layout)\n",
    "iplot(fig, filename='cs-isa-freq')"
   ]
  },
  {
   "cell_type": "code",
   "execution_count": 18,
   "metadata": {
    "collapsed": false
   },
   "outputs": [
    {
     "name": "stdout",
     "output_type": "stream",
     "text": [
      "ORG_INVITE SIGNUP\n",
      "1.73994302689 0.0818690224843\n",
      "ORG_INVITE GUEST_INVITE\n",
      "3.83332924932 0.000126420563511\n",
      "ORG_INVITE SIGNUP_GOOGLE_AUTH\n",
      "0.551756247657 0.581115367103\n",
      "ORG_INVITE PERSONAL_PROJECTS\n",
      "2.57588868102 0.00999828296546\n",
      "SIGNUP GUEST_INVITE\n",
      "4.90949608701 9.13107217171e-07\n",
      "SIGNUP SIGNUP_GOOGLE_AUTH\n",
      "0.937437592355 0.348533511454\n",
      "SIGNUP PERSONAL_PROJECTS\n",
      "3.65136317551 0.00026085205911\n",
      "GUEST_INVITE SIGNUP_GOOGLE_AUTH\n",
      "3.59693674291 0.000321986746958\n",
      "GUEST_INVITE PERSONAL_PROJECTS\n",
      "0.342707773148 0.731818314364\n",
      "SIGNUP_GOOGLE_AUTH PERSONAL_PROJECTS\n",
      "2.6672869458 0.00764663543724\n"
     ]
    }
   ],
   "source": [
    "# Perform two proportion z test between all creation_source classes.\n",
    "for i in range(5):\n",
    "    for j in range(5):\n",
    "        if i < j:\n",
    "            print(classes[i], classes[j])\n",
    "            z, p = two_proportion_ztest(cs_dict[classes[i]], cs_dict[classes[j]], counts[i], counts[j])\n",
    "            print(z, p)\n",
    "        else:\n",
    "            continue"
   ]
  },
  {
   "cell_type": "markdown",
   "metadata": {},
   "source": [
    "The way that I spewed out the significance tests is probably a bit messy (sorry), but let's see what we can glean from them. \n",
    "* With the exception of `PERSONAL_PROJECTS`, the differences between `GUEST_INVITE` and the other classes are statistically significant. Similarly, the differences between `PERSONAL_PROJECTS` and all of the other classes (besides `GUEST_INVITE`) are statistically significant. Thus, the conclusion that we may have drawn by eye (`GUEST_INVITE` and `PERSONAL_PROJECTS` have a significantly higher adoption frequency) is, in fact, consistent with our statistics.\n",
    "* A direct consequence of the previous point is that users that registered via the website, through an organization invitation (as a full member), or by using Google authentication lagged behind the other two avenues. That said, it may be worth evaluating if there is a way to increase adoption for those creation sources."
   ]
  },
  {
   "cell_type": "markdown",
   "metadata": {},
   "source": [
    "Next, let's see if being on the mailing list helps with adoption."
   ]
  },
  {
   "cell_type": "code",
   "execution_count": 19,
   "metadata": {
    "collapsed": true
   },
   "outputs": [],
   "source": [
    "# Check opted_in_to_mailing_list.\n",
    "ml_dict = dict() \n",
    "\n",
    "ml_dict['N'] = complete_df.loc[complete_df.opted_in_to_mailing_list == 0].is_adopted.sum() / \\\n",
    "               len(complete_df.loc[complete_df.opted_in_to_mailing_list == 0].index)\n",
    "ml_dict['Y'] = complete_df.loc[complete_df.opted_in_to_mailing_list == 1].is_adopted.sum() / \\\n",
    "               len(complete_df.loc[complete_df.opted_in_to_mailing_list == 1].index)"
   ]
  },
  {
   "cell_type": "code",
   "execution_count": 20,
   "metadata": {
    "collapsed": false
   },
   "outputs": [
    {
     "data": {
      "application/vnd.plotly.v1+json": {
       "data": [
        {
         "marker": {
          "color": "red"
         },
         "type": "bar",
         "x": [
          "N",
          "Y"
         ],
         "y": [
          0.18599363346975897,
          0.192722371967655
         ]
        }
       ],
       "layout": {
        "title": "RAF within Mailing List",
        "xaxis": {
         "tickfont": {
          "size": 10
         },
         "title": "Opted into Mailing List?"
        },
        "yaxis": {
         "title": "Relative Adoption Frequency (within ML)"
        }
       }
      },
      "text/html": [
       "<div id=\"406d536e-9ac3-4ace-91ce-2eda7b972cd6\" style=\"height: 525px; width: 100%;\" class=\"plotly-graph-div\"></div><script type=\"text/javascript\">require([\"plotly\"], function(Plotly) { window.PLOTLYENV=window.PLOTLYENV || {};window.PLOTLYENV.BASE_URL=\"https://plot.ly\";Plotly.newPlot(\"406d536e-9ac3-4ace-91ce-2eda7b972cd6\", [{\"type\": \"bar\", \"x\": [\"N\", \"Y\"], \"y\": [0.18599363346975897, 0.192722371967655], \"marker\": {\"color\": \"red\"}}], {\"title\": \"RAF within Mailing List\", \"yaxis\": {\"title\": \"Relative Adoption Frequency (within ML)\"}, \"xaxis\": {\"title\": \"Opted into Mailing List?\", \"tickfont\": {\"size\": 10}}}, {\"showLink\": true, \"linkText\": \"Export to plot.ly\"})});</script>"
      ],
      "text/vnd.plotly.v1+html": [
       "<div id=\"406d536e-9ac3-4ace-91ce-2eda7b972cd6\" style=\"height: 525px; width: 100%;\" class=\"plotly-graph-div\"></div><script type=\"text/javascript\">require([\"plotly\"], function(Plotly) { window.PLOTLYENV=window.PLOTLYENV || {};window.PLOTLYENV.BASE_URL=\"https://plot.ly\";Plotly.newPlot(\"406d536e-9ac3-4ace-91ce-2eda7b972cd6\", [{\"type\": \"bar\", \"x\": [\"N\", \"Y\"], \"y\": [0.18599363346975897, 0.192722371967655], \"marker\": {\"color\": \"red\"}}], {\"title\": \"RAF within Mailing List\", \"yaxis\": {\"title\": \"Relative Adoption Frequency (within ML)\"}, \"xaxis\": {\"title\": \"Opted into Mailing List?\", \"tickfont\": {\"size\": 10}}}, {\"showLink\": true, \"linkText\": \"Export to plot.ly\"})});</script>"
      ]
     },
     "metadata": {},
     "output_type": "display_data"
    }
   ],
   "source": [
    "trace = go.Bar(\n",
    "    x=list(ml_dict.keys()),\n",
    "    y=list(ml_dict.values()),\n",
    "    marker = dict(color='red')\n",
    ")\n",
    "\n",
    "data=[trace]\n",
    "\n",
    "layout = dict(title = 'RAF within Mailing List',\n",
    "              yaxis = dict(title = 'Relative Adoption Frequency (within ML)'),\n",
    "              xaxis = dict(title='Opted into Mailing List?',\n",
    "                           tickfont=dict(size=10))\n",
    "              )\n",
    "\n",
    "fig = dict(data=data, layout=layout)\n",
    "iplot(fig, filename='ml-isa-freq')"
   ]
  },
  {
   "cell_type": "code",
   "execution_count": 21,
   "metadata": {
    "collapsed": false
   },
   "outputs": [
    {
     "name": "stdout",
     "output_type": "stream",
     "text": [
      "Mailing List (p-value): 0.526319\n"
     ]
    }
   ],
   "source": [
    "ml_n = len(complete_df.loc[complete_df.opted_in_to_mailing_list == 0].index)\n",
    "ml_y = len(complete_df.loc[complete_df.opted_in_to_mailing_list == 1].index)\n",
    "\n",
    "z, p = two_proportion_ztest(ml_dict['N'], ml_dict['Y'], ml_n, ml_y)\n",
    "print('Mailing List (p-value): %f' % p)"
   ]
  },
  {
   "cell_type": "markdown",
   "metadata": {},
   "source": [
    "We fail to reject the null hypothesis, meaning that we are unable to conclude that being on the mailing list makes a significant difference. "
   ]
  },
  {
   "cell_type": "markdown",
   "metadata": {},
   "source": [
    "Does being on the regular marketing email drip help matters?"
   ]
  },
  {
   "cell_type": "code",
   "execution_count": 22,
   "metadata": {
    "collapsed": true
   },
   "outputs": [],
   "source": [
    "# Check enabled_for_marketing_drip.\n",
    "md_dict = dict() \n",
    "\n",
    "md_dict['N'] = complete_df.loc[complete_df.enabled_for_marketing_drip == 0].is_adopted.sum() / \\\n",
    "               len(complete_df.loc[complete_df.enabled_for_marketing_drip == 0].index)\n",
    "md_dict['Y'] = complete_df.loc[complete_df.enabled_for_marketing_drip == 1].is_adopted.sum() / \\\n",
    "               len(complete_df.loc[complete_df.enabled_for_marketing_drip == 1].index)"
   ]
  },
  {
   "cell_type": "code",
   "execution_count": 23,
   "metadata": {
    "collapsed": false
   },
   "outputs": [
    {
     "data": {
      "application/vnd.plotly.v1+json": {
       "data": [
        {
         "marker": {
          "color": "green"
         },
         "type": "bar",
         "x": [
          "N",
          "Y"
         ],
         "y": [
          0.18698209035017374,
          0.19164802386278895
         ]
        }
       ],
       "layout": {
        "title": "RAF within Marketing Drip",
        "xaxis": {
         "tickfont": {
          "size": 10
         },
         "title": "Enabled Marketing Drip?"
        },
        "yaxis": {
         "title": "Relative Adoption Frequency (within MD)"
        }
       }
      },
      "text/html": [
       "<div id=\"ca949604-c6e2-47fd-ae8f-bb7c86040eb2\" style=\"height: 525px; width: 100%;\" class=\"plotly-graph-div\"></div><script type=\"text/javascript\">require([\"plotly\"], function(Plotly) { window.PLOTLYENV=window.PLOTLYENV || {};window.PLOTLYENV.BASE_URL=\"https://plot.ly\";Plotly.newPlot(\"ca949604-c6e2-47fd-ae8f-bb7c86040eb2\", [{\"type\": \"bar\", \"x\": [\"N\", \"Y\"], \"y\": [0.18698209035017374, 0.19164802386278895], \"marker\": {\"color\": \"green\"}}], {\"title\": \"RAF within Marketing Drip\", \"yaxis\": {\"title\": \"Relative Adoption Frequency (within MD)\"}, \"xaxis\": {\"title\": \"Enabled Marketing Drip?\", \"tickfont\": {\"size\": 10}}}, {\"showLink\": true, \"linkText\": \"Export to plot.ly\"})});</script>"
      ],
      "text/vnd.plotly.v1+html": [
       "<div id=\"ca949604-c6e2-47fd-ae8f-bb7c86040eb2\" style=\"height: 525px; width: 100%;\" class=\"plotly-graph-div\"></div><script type=\"text/javascript\">require([\"plotly\"], function(Plotly) { window.PLOTLYENV=window.PLOTLYENV || {};window.PLOTLYENV.BASE_URL=\"https://plot.ly\";Plotly.newPlot(\"ca949604-c6e2-47fd-ae8f-bb7c86040eb2\", [{\"type\": \"bar\", \"x\": [\"N\", \"Y\"], \"y\": [0.18698209035017374, 0.19164802386278895], \"marker\": {\"color\": \"green\"}}], {\"title\": \"RAF within Marketing Drip\", \"yaxis\": {\"title\": \"Relative Adoption Frequency (within MD)\"}, \"xaxis\": {\"title\": \"Enabled Marketing Drip?\", \"tickfont\": {\"size\": 10}}}, {\"showLink\": true, \"linkText\": \"Export to plot.ly\"})});</script>"
      ]
     },
     "metadata": {},
     "output_type": "display_data"
    }
   ],
   "source": [
    "trace = go.Bar(\n",
    "    x=list(md_dict.keys()),\n",
    "    y=list(md_dict.values()),\n",
    "    marker = dict(color='green')\n",
    ")\n",
    "\n",
    "data=[trace]\n",
    "\n",
    "layout = dict(title = 'RAF within Marketing Drip',\n",
    "              yaxis = dict(title = 'Relative Adoption Frequency (within MD)'),\n",
    "              xaxis = dict(title='Enabled Marketing Drip?',\n",
    "                           tickfont=dict(size=10))\n",
    "              )\n",
    "\n",
    "fig = dict(data=data, layout=layout)\n",
    "iplot(fig, filename='md-isa-freq')"
   ]
  },
  {
   "cell_type": "code",
   "execution_count": 24,
   "metadata": {
    "collapsed": false
   },
   "outputs": [
    {
     "name": "stdout",
     "output_type": "stream",
     "text": [
      "Marketing Drip (p-value): 0.716464\n"
     ]
    }
   ],
   "source": [
    "md_n = len(complete_df.loc[complete_df.enabled_for_marketing_drip == 0].index)\n",
    "md_y = len(complete_df.loc[complete_df.enabled_for_marketing_drip == 1].index)\n",
    "\n",
    "z, p = two_proportion_ztest(md_dict['N'], md_dict['Y'], md_n, md_y)\n",
    "print('Marketing Drip (p-value): %f' % p)"
   ]
  },
  {
   "cell_type": "markdown",
   "metadata": {},
   "source": [
    "Again, the answer is no! "
   ]
  },
  {
   "cell_type": "markdown",
   "metadata": {},
   "source": [
    "Lastly, let's see if being invited by another user makes for higher adoption rates. Note that this column likely overlaps with the combination of `PERSONAL_PROJECTS`, `GUEST_INVITE`, and `ORG_INVITE` in the `creation_source` column, as one would presumably have to be invited by other users to create an account through those sources.  "
   ]
  },
  {
   "cell_type": "code",
   "execution_count": 25,
   "metadata": {
    "collapsed": true
   },
   "outputs": [],
   "source": [
    "# Create new column 'is_invited'. \n",
    "complete_df['is_invited'] = complete_df.invited_by_user_id.apply(lambda x: 0 if np.isnan(x) else 1)\n",
    "\n",
    "ii_dict = dict() \n",
    "\n",
    "ii_dict['N'] = complete_df.loc[complete_df.is_invited == 0].is_adopted.sum() / \\\n",
    "               len(complete_df.loc[complete_df.is_invited == 0].index)\n",
    "ii_dict['Y'] = complete_df.loc[complete_df.is_invited == 1].is_adopted.sum() / \\\n",
    "               len(complete_df.loc[complete_df.is_invited == 1].index)"
   ]
  },
  {
   "cell_type": "code",
   "execution_count": 26,
   "metadata": {
    "collapsed": false
   },
   "outputs": [
    {
     "data": {
      "application/vnd.plotly.v1+json": {
       "data": [
        {
         "marker": {
          "color": "blue"
         },
         "type": "bar",
         "x": [
          "N",
          "Y"
         ],
         "y": [
          0.1761798863355572,
          0.19744556113902847
         ]
        }
       ],
       "layout": {
        "title": "RAF (if invited)",
        "xaxis": {
         "tickfont": {
          "size": 10
         },
         "title": "Invited by Another User?"
        },
        "yaxis": {
         "title": "Relative Adoption Frequency (within II)"
        }
       }
      },
      "text/html": [
       "<div id=\"bd6ac1d1-d71e-4d5e-9f64-7a15eb873143\" style=\"height: 525px; width: 100%;\" class=\"plotly-graph-div\"></div><script type=\"text/javascript\">require([\"plotly\"], function(Plotly) { window.PLOTLYENV=window.PLOTLYENV || {};window.PLOTLYENV.BASE_URL=\"https://plot.ly\";Plotly.newPlot(\"bd6ac1d1-d71e-4d5e-9f64-7a15eb873143\", [{\"type\": \"bar\", \"x\": [\"N\", \"Y\"], \"y\": [0.1761798863355572, 0.19744556113902847], \"marker\": {\"color\": \"blue\"}}], {\"title\": \"RAF (if invited)\", \"yaxis\": {\"title\": \"Relative Adoption Frequency (within II)\"}, \"xaxis\": {\"title\": \"Invited by Another User?\", \"tickfont\": {\"size\": 10}}}, {\"showLink\": true, \"linkText\": \"Export to plot.ly\"})});</script>"
      ],
      "text/vnd.plotly.v1+html": [
       "<div id=\"bd6ac1d1-d71e-4d5e-9f64-7a15eb873143\" style=\"height: 525px; width: 100%;\" class=\"plotly-graph-div\"></div><script type=\"text/javascript\">require([\"plotly\"], function(Plotly) { window.PLOTLYENV=window.PLOTLYENV || {};window.PLOTLYENV.BASE_URL=\"https://plot.ly\";Plotly.newPlot(\"bd6ac1d1-d71e-4d5e-9f64-7a15eb873143\", [{\"type\": \"bar\", \"x\": [\"N\", \"Y\"], \"y\": [0.1761798863355572, 0.19744556113902847], \"marker\": {\"color\": \"blue\"}}], {\"title\": \"RAF (if invited)\", \"yaxis\": {\"title\": \"Relative Adoption Frequency (within II)\"}, \"xaxis\": {\"title\": \"Invited by Another User?\", \"tickfont\": {\"size\": 10}}}, {\"showLink\": true, \"linkText\": \"Export to plot.ly\"})});</script>"
      ]
     },
     "metadata": {},
     "output_type": "display_data"
    }
   ],
   "source": [
    "trace = go.Bar(\n",
    "    x=list(ii_dict.keys()),\n",
    "    y=list(ii_dict.values()),\n",
    "    marker = dict(color='blue')\n",
    ")\n",
    "\n",
    "data=[trace]\n",
    "\n",
    "layout = dict(title = 'RAF (if invited)',\n",
    "              yaxis = dict(title = 'Relative Adoption Frequency (within II)'),\n",
    "              xaxis = dict(title='Invited by Another User?',\n",
    "                           tickfont=dict(size=10))\n",
    "              )\n",
    "\n",
    "fig = dict(data=data, layout=layout)\n",
    "iplot(fig, filename='ii-isa-freq')"
   ]
  },
  {
   "cell_type": "code",
   "execution_count": 27,
   "metadata": {
    "collapsed": false
   },
   "outputs": [
    {
     "name": "stdout",
     "output_type": "stream",
     "text": [
      "Invited by Other User (p-value): 0.021593\n"
     ]
    }
   ],
   "source": [
    "ii_n = len(complete_df.loc[complete_df.is_invited == 0].index)\n",
    "ii_y = len(complete_df.loc[complete_df.is_invited == 1].index)\n",
    "\n",
    "z, p = two_proportion_ztest(ii_dict['N'], ii_dict['Y'], ii_n, ii_y)\n",
    "print('Invited by Other User (p-value): %f' % p)"
   ]
  },
  {
   "cell_type": "markdown",
   "metadata": {},
   "source": [
    "Finally, we're in business! The increase that we see between the two classes (invite vs. no invite) does appear to be real."
   ]
  },
  {
   "cell_type": "markdown",
   "metadata": {},
   "source": [
    "We may also explore whether the size of an organization (group of users) has anything to do with adoption."
   ]
  },
  {
   "cell_type": "code",
   "execution_count": 28,
   "metadata": {
    "collapsed": false
   },
   "outputs": [],
   "source": [
    "org_sizes = dict()\n",
    "\n",
    "for oi in complete_df.org_id.unique():\n",
    "    org_df = complete_df.loc[complete_df.org_id == oi]\n",
    "    org_sizes[oi] = len(org_df.index)\n",
    "    \n",
    "org_sizes_df = pd.DataFrame.from_dict(org_sizes, orient='index').reset_index()\n",
    "org_sizes_df.columns = ['org_id', 'org_size']"
   ]
  },
  {
   "cell_type": "code",
   "execution_count": 29,
   "metadata": {
    "collapsed": false
   },
   "outputs": [],
   "source": [
    "# Merge organization dfs. \n",
    "merge_os_df = org_sizes_df.merge(right=complete_df[['org_id', 'is_adopted']], left_on='org_id', right_on='org_id')"
   ]
  },
  {
   "cell_type": "code",
   "execution_count": 30,
   "metadata": {
    "collapsed": false
   },
   "outputs": [],
   "source": [
    "os_isa_dict = dict()\n",
    "\n",
    "for oi in merge_os_df.org_id.unique():\n",
    "    org_df = merge_os_df.loc[merge_os_df.org_id == oi]\n",
    "    os_isa_dict[int(org_df.org_size.unique())] = org_df.is_adopted.sum() / len(org_df.index)"
   ]
  },
  {
   "cell_type": "code",
   "execution_count": 31,
   "metadata": {
    "collapsed": false
   },
   "outputs": [
    {
     "data": {
      "application/vnd.plotly.v1+json": {
       "data": [
        {
         "mode": "markers",
         "type": "scatter",
         "x": [
          56,
          172,
          23,
          11,
          34,
          15,
          31,
          17,
          228,
          38,
          35,
          88,
          102,
          22,
          26,
          12,
          27,
          10,
          30,
          66,
          122,
          18,
          37,
          19,
          8,
          33,
          29,
          32,
          16,
          41,
          13,
          21,
          87,
          28,
          44,
          20,
          67,
          40,
          68,
          125,
          9,
          43,
          14,
          24,
          42,
          47,
          58,
          7,
          50,
          6,
          150,
          25,
          57,
          54,
          91,
          46,
          36,
          4,
          5,
          2
         ],
         "y": [
          0.14285714285714285,
          0.09302325581395349,
          0.13043478260869565,
          0.18181818181818182,
          0.2647058823529412,
          0.3333333333333333,
          0.25806451612903225,
          0.29411764705882354,
          0.05263157894736842,
          0.10526315789473684,
          0.2,
          0.18181818181818182,
          0.10784313725490197,
          0.13636363636363635,
          0.19230769230769232,
          0.08333333333333333,
          0.14814814814814814,
          0.2,
          0.23333333333333334,
          0.07575757575757576,
          0.13934426229508196,
          0.3333333333333333,
          0.1891891891891892,
          0.15789473684210525,
          0.25,
          0.15151515151515152,
          0.2413793103448276,
          0.1875,
          0.1875,
          0.0975609756097561,
          0.23076923076923078,
          0.2857142857142857,
          0.13793103448275862,
          0.21428571428571427,
          0.22727272727272727,
          0.35,
          0.14925373134328357,
          0.225,
          0.14705882352941177,
          0.112,
          0.3333333333333333,
          0.11627906976744186,
          0.21428571428571427,
          0.16666666666666666,
          0.11904761904761904,
          0.19148936170212766,
          0.08620689655172414,
          0,
          0.2,
          0,
          0.1,
          0.32,
          0.10526315789473684,
          0.12962962962962962,
          0.15384615384615385,
          0.08695652173913043,
          0.16666666666666666,
          0.5,
          0.2,
          0
         ]
        }
       ],
       "layout": {
        "title": "Effect of Group Size on RAF",
        "xaxis": {
         "tickfont": {
          "size": 10
         },
         "title": "Group Size"
        },
        "yaxis": {
         "title": "Relative Adoption Frequency (within groups)"
        }
       }
      },
      "text/html": [
       "<div id=\"0d8f6b1f-07cf-4bb3-a6e0-5a73296657d7\" style=\"height: 525px; width: 100%;\" class=\"plotly-graph-div\"></div><script type=\"text/javascript\">require([\"plotly\"], function(Plotly) { window.PLOTLYENV=window.PLOTLYENV || {};window.PLOTLYENV.BASE_URL=\"https://plot.ly\";Plotly.newPlot(\"0d8f6b1f-07cf-4bb3-a6e0-5a73296657d7\", [{\"type\": \"scatter\", \"x\": [56, 172, 23, 11, 34, 15, 31, 17, 228, 38, 35, 88, 102, 22, 26, 12, 27, 10, 30, 66, 122, 18, 37, 19, 8, 33, 29, 32, 16, 41, 13, 21, 87, 28, 44, 20, 67, 40, 68, 125, 9, 43, 14, 24, 42, 47, 58, 7, 50, 6, 150, 25, 57, 54, 91, 46, 36, 4, 5, 2], \"y\": [0.14285714285714285, 0.09302325581395349, 0.13043478260869565, 0.18181818181818182, 0.2647058823529412, 0.3333333333333333, 0.25806451612903225, 0.29411764705882354, 0.05263157894736842, 0.10526315789473684, 0.2, 0.18181818181818182, 0.10784313725490197, 0.13636363636363635, 0.19230769230769232, 0.08333333333333333, 0.14814814814814814, 0.2, 0.23333333333333334, 0.07575757575757576, 0.13934426229508196, 0.3333333333333333, 0.1891891891891892, 0.15789473684210525, 0.25, 0.15151515151515152, 0.2413793103448276, 0.1875, 0.1875, 0.0975609756097561, 0.23076923076923078, 0.2857142857142857, 0.13793103448275862, 0.21428571428571427, 0.22727272727272727, 0.35, 0.14925373134328357, 0.225, 0.14705882352941177, 0.112, 0.3333333333333333, 0.11627906976744186, 0.21428571428571427, 0.16666666666666666, 0.11904761904761904, 0.19148936170212766, 0.08620689655172414, 0.0, 0.2, 0.0, 0.1, 0.32, 0.10526315789473684, 0.12962962962962962, 0.15384615384615385, 0.08695652173913043, 0.16666666666666666, 0.5, 0.2, 0.0], \"mode\": \"markers\"}], {\"title\": \"Effect of Group Size on RAF\", \"yaxis\": {\"title\": \"Relative Adoption Frequency (within groups)\"}, \"xaxis\": {\"title\": \"Group Size\", \"tickfont\": {\"size\": 10}}}, {\"showLink\": true, \"linkText\": \"Export to plot.ly\"})});</script>"
      ],
      "text/vnd.plotly.v1+html": [
       "<div id=\"0d8f6b1f-07cf-4bb3-a6e0-5a73296657d7\" style=\"height: 525px; width: 100%;\" class=\"plotly-graph-div\"></div><script type=\"text/javascript\">require([\"plotly\"], function(Plotly) { window.PLOTLYENV=window.PLOTLYENV || {};window.PLOTLYENV.BASE_URL=\"https://plot.ly\";Plotly.newPlot(\"0d8f6b1f-07cf-4bb3-a6e0-5a73296657d7\", [{\"type\": \"scatter\", \"x\": [56, 172, 23, 11, 34, 15, 31, 17, 228, 38, 35, 88, 102, 22, 26, 12, 27, 10, 30, 66, 122, 18, 37, 19, 8, 33, 29, 32, 16, 41, 13, 21, 87, 28, 44, 20, 67, 40, 68, 125, 9, 43, 14, 24, 42, 47, 58, 7, 50, 6, 150, 25, 57, 54, 91, 46, 36, 4, 5, 2], \"y\": [0.14285714285714285, 0.09302325581395349, 0.13043478260869565, 0.18181818181818182, 0.2647058823529412, 0.3333333333333333, 0.25806451612903225, 0.29411764705882354, 0.05263157894736842, 0.10526315789473684, 0.2, 0.18181818181818182, 0.10784313725490197, 0.13636363636363635, 0.19230769230769232, 0.08333333333333333, 0.14814814814814814, 0.2, 0.23333333333333334, 0.07575757575757576, 0.13934426229508196, 0.3333333333333333, 0.1891891891891892, 0.15789473684210525, 0.25, 0.15151515151515152, 0.2413793103448276, 0.1875, 0.1875, 0.0975609756097561, 0.23076923076923078, 0.2857142857142857, 0.13793103448275862, 0.21428571428571427, 0.22727272727272727, 0.35, 0.14925373134328357, 0.225, 0.14705882352941177, 0.112, 0.3333333333333333, 0.11627906976744186, 0.21428571428571427, 0.16666666666666666, 0.11904761904761904, 0.19148936170212766, 0.08620689655172414, 0.0, 0.2, 0.0, 0.1, 0.32, 0.10526315789473684, 0.12962962962962962, 0.15384615384615385, 0.08695652173913043, 0.16666666666666666, 0.5, 0.2, 0.0], \"mode\": \"markers\"}], {\"title\": \"Effect of Group Size on RAF\", \"yaxis\": {\"title\": \"Relative Adoption Frequency (within groups)\"}, \"xaxis\": {\"title\": \"Group Size\", \"tickfont\": {\"size\": 10}}}, {\"showLink\": true, \"linkText\": \"Export to plot.ly\"})});</script>"
      ]
     },
     "metadata": {},
     "output_type": "display_data"
    }
   ],
   "source": [
    "# Create a trace\n",
    "trace = go.Scatter(\n",
    "    x = list(os_isa_dict.keys()),\n",
    "    y = list(os_isa_dict.values()),\n",
    "    mode = 'markers'\n",
    ")\n",
    "\n",
    "data = [trace]\n",
    "\n",
    "layout = dict(title = 'Effect of Group Size on RAF',\n",
    "              yaxis = dict(title = 'Relative Adoption Frequency (within groups)'),\n",
    "              xaxis = dict(title='Group Size',\n",
    "                           tickfont=dict(size=10))\n",
    "              )\n",
    "\n",
    "fig = dict(data=data, layout=layout)\n",
    "iplot(fig, filename='os-isa-freq')"
   ]
  },
  {
   "cell_type": "markdown",
   "metadata": {},
   "source": [
    "Interesting! It does appear that larger groups do appear to inhibit relative adoption frequency. "
   ]
  },
  {
   "cell_type": "markdown",
   "metadata": {},
   "source": [
    "#### Logistic Regression"
   ]
  },
  {
   "cell_type": "markdown",
   "metadata": {},
   "source": [
    "We can also use logistic regression to generate a quick and dirty predictive model! Let's do that and see if we get anything more than we did from our EDA."
   ]
  },
  {
   "cell_type": "code",
   "execution_count": 32,
   "metadata": {
    "collapsed": false
   },
   "outputs": [],
   "source": [
    "complete_df = complete_df.merge(right=org_sizes_df, left_on='org_id', right_on='org_id')"
   ]
  },
  {
   "cell_type": "code",
   "execution_count": 33,
   "metadata": {
    "collapsed": false
   },
   "outputs": [
    {
     "data": {
      "text/html": [
       "<div>\n",
       "<table border=\"1\" class=\"dataframe\">\n",
       "  <thead>\n",
       "    <tr style=\"text-align: right;\">\n",
       "      <th></th>\n",
       "      <th>object_id</th>\n",
       "      <th>creation_time</th>\n",
       "      <th>name</th>\n",
       "      <th>email</th>\n",
       "      <th>creation_source</th>\n",
       "      <th>last_session_creation_time</th>\n",
       "      <th>opted_in_to_mailing_list</th>\n",
       "      <th>enabled_for_marketing_drip</th>\n",
       "      <th>org_id</th>\n",
       "      <th>invited_by_user_id</th>\n",
       "      <th>is_adopted</th>\n",
       "      <th>is_invited</th>\n",
       "      <th>org_size</th>\n",
       "    </tr>\n",
       "  </thead>\n",
       "  <tbody>\n",
       "    <tr>\n",
       "      <th>0</th>\n",
       "      <td>1</td>\n",
       "      <td>2014-04-22 03:53:30</td>\n",
       "      <td>Clausen August</td>\n",
       "      <td>AugustCClausen@yahoo.com</td>\n",
       "      <td>GUEST_INVITE</td>\n",
       "      <td>1.398139e+09</td>\n",
       "      <td>1</td>\n",
       "      <td>0</td>\n",
       "      <td>11</td>\n",
       "      <td>10803.0</td>\n",
       "      <td>0</td>\n",
       "      <td>1</td>\n",
       "      <td>56</td>\n",
       "    </tr>\n",
       "    <tr>\n",
       "      <th>1</th>\n",
       "      <td>151</td>\n",
       "      <td>2013-04-12 11:45:27</td>\n",
       "      <td>Goncalves Melissa</td>\n",
       "      <td>MelissaRibeiroGoncalves@yahoo.com</td>\n",
       "      <td>SIGNUP</td>\n",
       "      <td>1.365767e+09</td>\n",
       "      <td>0</td>\n",
       "      <td>0</td>\n",
       "      <td>11</td>\n",
       "      <td>NaN</td>\n",
       "      <td>0</td>\n",
       "      <td>0</td>\n",
       "      <td>56</td>\n",
       "    </tr>\n",
       "    <tr>\n",
       "      <th>2</th>\n",
       "      <td>179</td>\n",
       "      <td>2013-04-14 20:47:44</td>\n",
       "      <td>Millen Kai</td>\n",
       "      <td>KaiMillen@yahoo.com</td>\n",
       "      <td>ORG_INVITE</td>\n",
       "      <td>1.366059e+09</td>\n",
       "      <td>0</td>\n",
       "      <td>0</td>\n",
       "      <td>11</td>\n",
       "      <td>7701.0</td>\n",
       "      <td>0</td>\n",
       "      <td>1</td>\n",
       "      <td>56</td>\n",
       "    </tr>\n",
       "    <tr>\n",
       "      <th>3</th>\n",
       "      <td>254</td>\n",
       "      <td>2014-03-04 19:52:58</td>\n",
       "      <td>Simonsen Niels</td>\n",
       "      <td>NielsHSimonsen@jourrapide.com</td>\n",
       "      <td>PERSONAL_PROJECTS</td>\n",
       "      <td>1.394308e+09</td>\n",
       "      <td>1</td>\n",
       "      <td>0</td>\n",
       "      <td>11</td>\n",
       "      <td>NaN</td>\n",
       "      <td>0</td>\n",
       "      <td>0</td>\n",
       "      <td>56</td>\n",
       "    </tr>\n",
       "    <tr>\n",
       "      <th>4</th>\n",
       "      <td>518</td>\n",
       "      <td>2014-01-26 03:42:20</td>\n",
       "      <td>Bennett Anthony</td>\n",
       "      <td>AnthonyDBennett@yahoo.com</td>\n",
       "      <td>ORG_INVITE</td>\n",
       "      <td>1.401767e+09</td>\n",
       "      <td>1</td>\n",
       "      <td>0</td>\n",
       "      <td>11</td>\n",
       "      <td>6882.0</td>\n",
       "      <td>1</td>\n",
       "      <td>1</td>\n",
       "      <td>56</td>\n",
       "    </tr>\n",
       "  </tbody>\n",
       "</table>\n",
       "</div>"
      ],
      "text/plain": [
       "   object_id        creation_time               name  \\\n",
       "0          1  2014-04-22 03:53:30     Clausen August   \n",
       "1        151  2013-04-12 11:45:27  Goncalves Melissa   \n",
       "2        179  2013-04-14 20:47:44         Millen Kai   \n",
       "3        254  2014-03-04 19:52:58     Simonsen Niels   \n",
       "4        518  2014-01-26 03:42:20    Bennett Anthony   \n",
       "\n",
       "                               email    creation_source  \\\n",
       "0           AugustCClausen@yahoo.com       GUEST_INVITE   \n",
       "1  MelissaRibeiroGoncalves@yahoo.com             SIGNUP   \n",
       "2                KaiMillen@yahoo.com         ORG_INVITE   \n",
       "3      NielsHSimonsen@jourrapide.com  PERSONAL_PROJECTS   \n",
       "4          AnthonyDBennett@yahoo.com         ORG_INVITE   \n",
       "\n",
       "   last_session_creation_time  opted_in_to_mailing_list  \\\n",
       "0                1.398139e+09                         1   \n",
       "1                1.365767e+09                         0   \n",
       "2                1.366059e+09                         0   \n",
       "3                1.394308e+09                         1   \n",
       "4                1.401767e+09                         1   \n",
       "\n",
       "   enabled_for_marketing_drip  org_id  invited_by_user_id  is_adopted  \\\n",
       "0                           0      11             10803.0           0   \n",
       "1                           0      11                 NaN           0   \n",
       "2                           0      11              7701.0           0   \n",
       "3                           0      11                 NaN           0   \n",
       "4                           0      11              6882.0           1   \n",
       "\n",
       "   is_invited  org_size  \n",
       "0           1        56  \n",
       "1           0        56  \n",
       "2           1        56  \n",
       "3           0        56  \n",
       "4           1        56  "
      ]
     },
     "execution_count": 33,
     "metadata": {},
     "output_type": "execute_result"
    }
   ],
   "source": [
    "complete_df.head()"
   ]
  },
  {
   "cell_type": "code",
   "execution_count": 34,
   "metadata": {
    "collapsed": true
   },
   "outputs": [],
   "source": [
    "def categorical_dummies(df_col, labels):\n",
    "    \"\"\"\n",
    "    Given a column containing a categorical feature, df_col, and labels, we generate\n",
    "    a set of boolean dummy variables. \n",
    "    \"\"\"\n",
    "    dummies = pd.DataFrame(np.zeros((len(df_col.index), len(labels))))\n",
    "    \n",
    "    for i in range(len(labels)):\n",
    "        dummies.iloc[:,i] = df_col.apply(lambda x: 1 if x == i else 0)\n",
    "    \n",
    "    dummies.columns = ['is_' + s for s in labels]\n",
    "    \n",
    "    return dummies"
   ]
  },
  {
   "cell_type": "code",
   "execution_count": 35,
   "metadata": {
    "collapsed": false
   },
   "outputs": [],
   "source": [
    "# Drop all irrelevant columns, create dummy variables where necessary.\n",
    "cs_le = LabelEncoder()\n",
    "complete_df.creation_source = cs_le.fit_transform(complete_df.creation_source)\n",
    "cs_labels = cs_le.classes_\n",
    "\n",
    "cs_dummies = categorical_dummies(complete_df.creation_source, cs_labels)\n",
    "complete_df.drop(['creation_source'], axis=1, inplace=True)\n",
    "complete_df = complete_df.merge(cs_dummies, left_index=True, right_index=True)\n",
    "\n",
    "# Drop one of the dummy columns to prevent issues with multicollinearity. \n",
    "complete_df.drop('is_PERSONAL_PROJECTS', axis=1, inplace=True)\n",
    "\n",
    "# Drop other columns that will not be helpful.\n",
    "complete_df.drop(['object_id','name', 'email', 'org_id', 'invited_by_user_id'], axis=1, inplace=True)\n",
    "\n",
    "# Generate additional feature from creation_date and last_session_creation_time. Essentially, this is a measure\n",
    "# of how long an active user has had an account.\n",
    "# \n",
    "# NOTE: I removed this from the model, as it actually dominates our regression (and is kind of obvious - the longer \n",
    "#       a user has been signed up, the more likely it is that they will have been \"adopted\").\n",
    "#complete_df['created_to_last_time'] = (pd.to_datetime(complete_df.last_session_creation_time, unit='s') - pd.to_datetime(complete_df.creation_time))\n",
    "#complete_df['created_to_last_time'] = complete_df.created_to_last_time.astype('timedelta64[D]').astype(int)\n",
    "complete_df.drop(['creation_time', 'last_session_creation_time'], axis=1, inplace=True)\n",
    "\n",
    "# Split out target variable, drop from feature matrix.\n",
    "is_adopted = complete_df.is_adopted\n",
    "complete_df.drop(['is_adopted'], axis=1, inplace=True)"
   ]
  },
  {
   "cell_type": "code",
   "execution_count": 36,
   "metadata": {
    "collapsed": false
   },
   "outputs": [
    {
     "data": {
      "text/html": [
       "<div>\n",
       "<table border=\"1\" class=\"dataframe\">\n",
       "  <thead>\n",
       "    <tr style=\"text-align: right;\">\n",
       "      <th></th>\n",
       "      <th>opted_in_to_mailing_list</th>\n",
       "      <th>enabled_for_marketing_drip</th>\n",
       "      <th>is_invited</th>\n",
       "      <th>org_size</th>\n",
       "      <th>is_GUEST_INVITE</th>\n",
       "      <th>is_ORG_INVITE</th>\n",
       "      <th>is_SIGNUP</th>\n",
       "      <th>is_SIGNUP_GOOGLE_AUTH</th>\n",
       "    </tr>\n",
       "  </thead>\n",
       "  <tbody>\n",
       "    <tr>\n",
       "      <th>0</th>\n",
       "      <td>1</td>\n",
       "      <td>0</td>\n",
       "      <td>1</td>\n",
       "      <td>56</td>\n",
       "      <td>1</td>\n",
       "      <td>0</td>\n",
       "      <td>0</td>\n",
       "      <td>0</td>\n",
       "    </tr>\n",
       "    <tr>\n",
       "      <th>1</th>\n",
       "      <td>0</td>\n",
       "      <td>0</td>\n",
       "      <td>0</td>\n",
       "      <td>56</td>\n",
       "      <td>0</td>\n",
       "      <td>0</td>\n",
       "      <td>1</td>\n",
       "      <td>0</td>\n",
       "    </tr>\n",
       "    <tr>\n",
       "      <th>2</th>\n",
       "      <td>0</td>\n",
       "      <td>0</td>\n",
       "      <td>1</td>\n",
       "      <td>56</td>\n",
       "      <td>0</td>\n",
       "      <td>1</td>\n",
       "      <td>0</td>\n",
       "      <td>0</td>\n",
       "    </tr>\n",
       "    <tr>\n",
       "      <th>3</th>\n",
       "      <td>1</td>\n",
       "      <td>0</td>\n",
       "      <td>0</td>\n",
       "      <td>56</td>\n",
       "      <td>0</td>\n",
       "      <td>0</td>\n",
       "      <td>0</td>\n",
       "      <td>0</td>\n",
       "    </tr>\n",
       "    <tr>\n",
       "      <th>4</th>\n",
       "      <td>1</td>\n",
       "      <td>0</td>\n",
       "      <td>1</td>\n",
       "      <td>56</td>\n",
       "      <td>0</td>\n",
       "      <td>1</td>\n",
       "      <td>0</td>\n",
       "      <td>0</td>\n",
       "    </tr>\n",
       "  </tbody>\n",
       "</table>\n",
       "</div>"
      ],
      "text/plain": [
       "   opted_in_to_mailing_list  enabled_for_marketing_drip  is_invited  org_size  \\\n",
       "0                         1                           0           1        56   \n",
       "1                         0                           0           0        56   \n",
       "2                         0                           0           1        56   \n",
       "3                         1                           0           0        56   \n",
       "4                         1                           0           1        56   \n",
       "\n",
       "   is_GUEST_INVITE  is_ORG_INVITE  is_SIGNUP  is_SIGNUP_GOOGLE_AUTH  \n",
       "0                1              0          0                      0  \n",
       "1                0              0          1                      0  \n",
       "2                0              1          0                      0  \n",
       "3                0              0          0                      0  \n",
       "4                0              1          0                      0  "
      ]
     },
     "execution_count": 36,
     "metadata": {},
     "output_type": "execute_result"
    }
   ],
   "source": [
    "complete_df.head()"
   ]
  },
  {
   "cell_type": "code",
   "execution_count": 37,
   "metadata": {
    "collapsed": false
   },
   "outputs": [],
   "source": [
    "# Random train/test split. \n",
    "X_train, X_test, y_train, y_test = train_test_split(complete_df.values, is_adopted.values, test_size=0.2, random_state=42)"
   ]
  },
  {
   "cell_type": "code",
   "execution_count": 38,
   "metadata": {
    "collapsed": false
   },
   "outputs": [
    {
     "name": "stderr",
     "output_type": "stream",
     "text": [
      "/anaconda/lib/python3.6/site-packages/sklearn/utils/validation.py:429: DataConversionWarning:\n",
      "\n",
      "Data with input dtype int64 was converted to float64 by StandardScaler.\n",
      "\n"
     ]
    }
   ],
   "source": [
    "# Standardize all input variables. \n",
    "scl = StandardScaler()\n",
    "X_train_scl = scl.fit_transform(X_train)\n",
    "X_test_scl = scl.transform(X_test)"
   ]
  },
  {
   "cell_type": "code",
   "execution_count": 39,
   "metadata": {
    "collapsed": false
   },
   "outputs": [],
   "source": [
    "from sklearn.linear_model import LogisticRegression\n",
    "\n",
    "params = {'C': [0.001, 0.01, 0.1, 1., 10., 100., 1000.]}\n",
    "\n",
    "logistic = LogisticRegression(solver='sag')\n",
    "\n",
    "gs = GridSearchCV(logistic, params, n_jobs=1)\n",
    "gs.fit(X_train_scl, y_train)\n",
    "log_reg_params = gs.best_params_\n",
    "\n",
    "logistic = LogisticRegression(**log_reg_params)\n",
    "\n",
    "# Fit/predict.\n",
    "logistic.fit(X_train_scl, y_train)\n",
    "y_predict = logistic.predict(X_test_scl)"
   ]
  },
  {
   "cell_type": "code",
   "execution_count": 40,
   "metadata": {
    "collapsed": false
   },
   "outputs": [
    {
     "name": "stdout",
     "output_type": "stream",
     "text": [
      "Accuracy Score: 0.820963\n"
     ]
    }
   ],
   "source": [
    "print('Accuracy Score: %f' % accuracy_score(y_test, y_predict))\n",
    "#print('Recall: %f' % recall_score(y_test, y_predict))"
   ]
  },
  {
   "cell_type": "code",
   "execution_count": 41,
   "metadata": {
    "collapsed": false
   },
   "outputs": [
    {
     "name": "stdout",
     "output_type": "stream",
     "text": [
      "ODDS RATIOS: \n",
      "is_GUEST_INVITE:  1.03596697417\n",
      "enabled_for_marketing_drip:  1.00688699876\n",
      "opted_in_to_mailing_list:  1.00554728198\n",
      "is_invited:  1.00221272022\n",
      "is_SIGNUP_GOOGLE_AUTH:  0.976901636099\n",
      "is_ORG_INVITE:  0.97464824322\n",
      "is_SIGNUP:  0.968906963332\n",
      "org_size:  0.890333947806\n"
     ]
    }
   ],
   "source": [
    "# Presented a bit nicer.\n",
    "print('ODDS RATIOS: ')\n",
    "cols = complete_df.columns\n",
    "odds_r = np.exp(logistic.coef_)[0]\n",
    "sort_indices = np.argsort(odds_r)[::-1]\n",
    "\n",
    "for i in sort_indices:\n",
    "    print(cols[i]+': ', odds_r[i])"
   ]
  },
  {
   "cell_type": "markdown",
   "metadata": {},
   "source": [
    "#### Conclusions"
   ]
  },
  {
   "cell_type": "markdown",
   "metadata": {},
   "source": [
    "Based on our logit and some of the hypothesis tests run earlier, we can make the following conclusions about user adoption:\n",
    "* As I mentioned in some of my code comments, I found that the longer a user was registered, the more likely they were to be considered \"adopted\" (the odds ratio for that feature was on the order of 3000!). This, in my opinion, is fairly obvious, as the longer a person has had his/her account, the more likely it is that they would have had a spurt of logins that would earn them the \"adopted\" title. That being said, perhaps accounting for the length of time since the last \"period of adoption\" (i.e., a user logged in three or more times in a seven-day period) would be more useful here. If a user was \"adopted\" three years ago and did not login since, would we really consider that a success? \n",
    "* The results from our hypothesis tests are similar in spirit to the odds ratios spewed out by our logit. Specifically, it does appear that creating an account via `GUEST_INVITE` or `PERSONAL_PROJECTS` (our reference class for the dummied `creation_source` column in our logit) slightly improves our chances at having an \"adopted\" user. The conclusion that we drew before about `is_invited`, however, is not mirrored in the corresponding odds ratio from our logit, but that may stem from the overlap between that column and `is_GUEST_INVITE` and `is_ORG_INVITE`. \n",
    "* The most marked change in odds occured for the `org_size` feature (although the corresponding decrease in odds ratio was relatively small). That said, it would be worth exploring whether splitting larger groups/organizations into smaller subgroups would increase adoption. If the groups are too large for a user to feel that they are useful (or heard within the organization, for that matter), we may have a reasonable explanation for why this may be the case.\n",
    "* Interestingly, the pair of features that are presumably in place to boost engagement (marketing drip, mailing list) lead to a significant increase in odds of adoption. Thus, it may be useful to re-evaluate the efficacy of these strategies. \n",
    "\n",
    "In closing, I would say that the best ways to go about increasing adoption include (1) encouraging users to send out personal invitations and (2) reducing the size of larger organizations. Additionally, the company should look into finding better ways to keep users engaged, as the mailing list and marketing drip campaigns are not doing much for them."
   ]
  },
  {
   "cell_type": "code",
   "execution_count": null,
   "metadata": {
    "collapsed": true
   },
   "outputs": [],
   "source": []
  }
 ],
 "metadata": {
  "kernelspec": {
   "display_name": "Python 3",
   "language": "python",
   "name": "python3"
  },
  "language_info": {
   "codemirror_mode": {
    "name": "ipython",
    "version": 3
   },
   "file_extension": ".py",
   "mimetype": "text/x-python",
   "name": "python",
   "nbconvert_exporter": "python",
   "pygments_lexer": "ipython3",
   "version": "3.6.0"
  }
 },
 "nbformat": 4,
 "nbformat_minor": 2
}
