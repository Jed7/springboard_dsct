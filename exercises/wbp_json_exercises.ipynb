{
 "cells": [
  {
   "cell_type": "markdown",
   "metadata": {},
   "source": [
    "# JSON Based Data Exercises: World Bank Projects\n",
    "### Springboard Data Science Career Track (C. Bonfield)\n",
    "\n",
    "In this notebook, we explore the JSON data contained in   `data/world_bank_projects.json`. \n",
    "\n",
    "Our objectives are as follows:\n",
    "1. Find the ten countries with the most projects.\n",
    "2. Find the top ten major project themes (using column `mjtheme_namecode`). \n",
    "3. Fill in the code names for the entries that are missing them (from \\#2). "
   ]
  },
  {
   "cell_type": "markdown",
   "metadata": {},
   "source": [
    "## 0. Load/Examine the Data"
   ]
  },
  {
   "cell_type": "code",
   "execution_count": 1,
   "metadata": {
    "collapsed": true
   },
   "outputs": [],
   "source": [
    "# Import statements \n",
    "import json\n",
    "import numpy as np\n",
    "import pandas as pd\n",
    "from pandas.io.json import json_normalize\n",
    "\n",
    "# Tweaks\n",
    "pd.set_option('display.max_columns', None)\n",
    "\n",
    "# Load data\n",
    "datafile = 'data/world_bank_projects.json'\n",
    "wbp_data = pd.read_json(datafile)"
   ]
  },
  {
   "cell_type": "code",
   "execution_count": 2,
   "metadata": {
    "collapsed": false
   },
   "outputs": [
    {
     "data": {
      "text/html": [
       "<div>\n",
       "<table border=\"1\" class=\"dataframe\">\n",
       "  <thead>\n",
       "    <tr style=\"text-align: right;\">\n",
       "      <th></th>\n",
       "      <th>_id</th>\n",
       "      <th>approvalfy</th>\n",
       "      <th>board_approval_month</th>\n",
       "      <th>boardapprovaldate</th>\n",
       "      <th>borrower</th>\n",
       "      <th>closingdate</th>\n",
       "      <th>country_namecode</th>\n",
       "      <th>countrycode</th>\n",
       "      <th>countryname</th>\n",
       "      <th>countryshortname</th>\n",
       "      <th>docty</th>\n",
       "      <th>envassesmentcategorycode</th>\n",
       "      <th>grantamt</th>\n",
       "      <th>ibrdcommamt</th>\n",
       "      <th>id</th>\n",
       "      <th>idacommamt</th>\n",
       "      <th>impagency</th>\n",
       "      <th>lendinginstr</th>\n",
       "      <th>lendinginstrtype</th>\n",
       "      <th>lendprojectcost</th>\n",
       "      <th>majorsector_percent</th>\n",
       "      <th>mjsector_namecode</th>\n",
       "      <th>mjtheme</th>\n",
       "      <th>mjtheme_namecode</th>\n",
       "      <th>mjthemecode</th>\n",
       "      <th>prodline</th>\n",
       "      <th>prodlinetext</th>\n",
       "      <th>productlinetype</th>\n",
       "      <th>project_abstract</th>\n",
       "      <th>project_name</th>\n",
       "      <th>projectdocs</th>\n",
       "      <th>projectfinancialtype</th>\n",
       "      <th>projectstatusdisplay</th>\n",
       "      <th>regionname</th>\n",
       "      <th>sector</th>\n",
       "      <th>sector1</th>\n",
       "      <th>sector2</th>\n",
       "      <th>sector3</th>\n",
       "      <th>sector4</th>\n",
       "      <th>sector_namecode</th>\n",
       "      <th>sectorcode</th>\n",
       "      <th>source</th>\n",
       "      <th>status</th>\n",
       "      <th>supplementprojectflg</th>\n",
       "      <th>theme1</th>\n",
       "      <th>theme_namecode</th>\n",
       "      <th>themecode</th>\n",
       "      <th>totalamt</th>\n",
       "      <th>totalcommamt</th>\n",
       "      <th>url</th>\n",
       "    </tr>\n",
       "  </thead>\n",
       "  <tbody>\n",
       "    <tr>\n",
       "      <th>0</th>\n",
       "      <td>{'$oid': '52b213b38594d8a2be17c780'}</td>\n",
       "      <td>1999</td>\n",
       "      <td>November</td>\n",
       "      <td>2013-11-12T00:00:00Z</td>\n",
       "      <td>FEDERAL DEMOCRATIC REPUBLIC OF ETHIOPIA</td>\n",
       "      <td>2018-07-07T00:00:00Z</td>\n",
       "      <td>Federal Democratic Republic of Ethiopia!$!ET</td>\n",
       "      <td>ET</td>\n",
       "      <td>Federal Democratic Republic of Ethiopia</td>\n",
       "      <td>Ethiopia</td>\n",
       "      <td>Project Information Document,Indigenous People...</td>\n",
       "      <td>C</td>\n",
       "      <td>0</td>\n",
       "      <td>0</td>\n",
       "      <td>P129828</td>\n",
       "      <td>130000000</td>\n",
       "      <td>MINISTRY OF EDUCATION</td>\n",
       "      <td>Investment Project Financing</td>\n",
       "      <td>IN</td>\n",
       "      <td>550000000</td>\n",
       "      <td>[{'Percent': 46, 'Name': 'Education'}, {'Perce...</td>\n",
       "      <td>[{'code': 'EX', 'name': 'Education'}, {'code':...</td>\n",
       "      <td>[Human development]</td>\n",
       "      <td>[{'code': '8', 'name': 'Human development'}, {...</td>\n",
       "      <td>8,11</td>\n",
       "      <td>PE</td>\n",
       "      <td>IBRD/IDA</td>\n",
       "      <td>L</td>\n",
       "      <td>{'cdata': 'The development objective of the Se...</td>\n",
       "      <td>Ethiopia General Education Quality Improvement...</td>\n",
       "      <td>[{'DocDate': '28-AUG-2013', 'EntityID': '09022...</td>\n",
       "      <td>IDA</td>\n",
       "      <td>Active</td>\n",
       "      <td>Africa</td>\n",
       "      <td>[{'Name': 'Primary education'}, {'Name': 'Seco...</td>\n",
       "      <td>{'Percent': 46, 'Name': 'Primary education'}</td>\n",
       "      <td>{'Percent': 26, 'Name': 'Secondary education'}</td>\n",
       "      <td>{'Percent': 16, 'Name': 'Public administration...</td>\n",
       "      <td>{'Percent': 12, 'Name': 'Tertiary education'}</td>\n",
       "      <td>[{'code': 'EP', 'name': 'Primary education'}, ...</td>\n",
       "      <td>ET,BS,ES,EP</td>\n",
       "      <td>IBRD</td>\n",
       "      <td>Active</td>\n",
       "      <td>N</td>\n",
       "      <td>{'Percent': 100, 'Name': 'Education for all'}</td>\n",
       "      <td>[{'code': '65', 'name': 'Education for all'}]</td>\n",
       "      <td>65</td>\n",
       "      <td>130000000</td>\n",
       "      <td>130000000</td>\n",
       "      <td>http://www.worldbank.org/projects/P129828/ethi...</td>\n",
       "    </tr>\n",
       "    <tr>\n",
       "      <th>1</th>\n",
       "      <td>{'$oid': '52b213b38594d8a2be17c781'}</td>\n",
       "      <td>2015</td>\n",
       "      <td>November</td>\n",
       "      <td>2013-11-04T00:00:00Z</td>\n",
       "      <td>GOVERNMENT OF TUNISIA</td>\n",
       "      <td>NaN</td>\n",
       "      <td>Republic of Tunisia!$!TN</td>\n",
       "      <td>TN</td>\n",
       "      <td>Republic of Tunisia</td>\n",
       "      <td>Tunisia</td>\n",
       "      <td>Project Information Document,Integrated Safegu...</td>\n",
       "      <td>C</td>\n",
       "      <td>4700000</td>\n",
       "      <td>0</td>\n",
       "      <td>P144674</td>\n",
       "      <td>0</td>\n",
       "      <td>MINISTRY OF FINANCE</td>\n",
       "      <td>Specific Investment Loan</td>\n",
       "      <td>IN</td>\n",
       "      <td>5700000</td>\n",
       "      <td>[{'Percent': 70, 'Name': 'Public Administratio...</td>\n",
       "      <td>[{'code': 'BX', 'name': 'Public Administration...</td>\n",
       "      <td>[Economic management, Social protection and ri...</td>\n",
       "      <td>[{'code': '1', 'name': 'Economic management'},...</td>\n",
       "      <td>1,6</td>\n",
       "      <td>RE</td>\n",
       "      <td>Recipient Executed Activities</td>\n",
       "      <td>L</td>\n",
       "      <td>NaN</td>\n",
       "      <td>TN: DTF Social Protection Reforms Support</td>\n",
       "      <td>[{'DocDate': '29-MAR-2013', 'EntityID': '00033...</td>\n",
       "      <td>OTHER</td>\n",
       "      <td>Active</td>\n",
       "      <td>Middle East and North Africa</td>\n",
       "      <td>[{'Name': 'Public administration- Other social...</td>\n",
       "      <td>{'Percent': 70, 'Name': 'Public administration...</td>\n",
       "      <td>{'Percent': 30, 'Name': 'General public admini...</td>\n",
       "      <td>NaN</td>\n",
       "      <td>NaN</td>\n",
       "      <td>[{'code': 'BS', 'name': 'Public administration...</td>\n",
       "      <td>BZ,BS</td>\n",
       "      <td>IBRD</td>\n",
       "      <td>Active</td>\n",
       "      <td>N</td>\n",
       "      <td>{'Percent': 30, 'Name': 'Other economic manage...</td>\n",
       "      <td>[{'code': '24', 'name': 'Other economic manage...</td>\n",
       "      <td>54,24</td>\n",
       "      <td>0</td>\n",
       "      <td>4700000</td>\n",
       "      <td>http://www.worldbank.org/projects/P144674?lang=en</td>\n",
       "    </tr>\n",
       "    <tr>\n",
       "      <th>2</th>\n",
       "      <td>{'$oid': '52b213b38594d8a2be17c782'}</td>\n",
       "      <td>2014</td>\n",
       "      <td>November</td>\n",
       "      <td>2013-11-01T00:00:00Z</td>\n",
       "      <td>MINISTRY OF FINANCE AND ECONOMIC DEVEL</td>\n",
       "      <td>NaN</td>\n",
       "      <td>Tuvalu!$!TV</td>\n",
       "      <td>TV</td>\n",
       "      <td>Tuvalu</td>\n",
       "      <td>Tuvalu</td>\n",
       "      <td>Resettlement Plan,Environmental Assessment,Int...</td>\n",
       "      <td>B</td>\n",
       "      <td>0</td>\n",
       "      <td>0</td>\n",
       "      <td>P145310</td>\n",
       "      <td>6060000</td>\n",
       "      <td>MINISTRY OF TRANSPORT AND COMMUNICATIONS</td>\n",
       "      <td>Investment Project Financing</td>\n",
       "      <td>IN</td>\n",
       "      <td>6060000</td>\n",
       "      <td>[{'Percent': 100, 'Name': 'Transportation'}]</td>\n",
       "      <td>[{'code': 'TX', 'name': 'Transportation'}]</td>\n",
       "      <td>[Trade and integration, Public sector governan...</td>\n",
       "      <td>[{'code': '5', 'name': 'Trade and integration'...</td>\n",
       "      <td>5,2,11,6</td>\n",
       "      <td>PE</td>\n",
       "      <td>IBRD/IDA</td>\n",
       "      <td>L</td>\n",
       "      <td>NaN</td>\n",
       "      <td>Tuvalu Aviation Investment Project - Additiona...</td>\n",
       "      <td>[{'DocDate': '21-OCT-2013', 'EntityID': '00033...</td>\n",
       "      <td>IDA</td>\n",
       "      <td>Active</td>\n",
       "      <td>East Asia and Pacific</td>\n",
       "      <td>[{'Name': 'Rural and Inter-Urban Roads and Hig...</td>\n",
       "      <td>{'Percent': 100, 'Name': 'Rural and Inter-Urba...</td>\n",
       "      <td>NaN</td>\n",
       "      <td>NaN</td>\n",
       "      <td>NaN</td>\n",
       "      <td>[{'code': 'TI', 'name': 'Rural and Inter-Urban...</td>\n",
       "      <td>TI</td>\n",
       "      <td>IBRD</td>\n",
       "      <td>Active</td>\n",
       "      <td>Y</td>\n",
       "      <td>{'Percent': 46, 'Name': 'Regional integration'}</td>\n",
       "      <td>[{'code': '47', 'name': 'Regional integration'...</td>\n",
       "      <td>52,81,25,47</td>\n",
       "      <td>6060000</td>\n",
       "      <td>6060000</td>\n",
       "      <td>http://www.worldbank.org/projects/P145310?lang=en</td>\n",
       "    </tr>\n",
       "    <tr>\n",
       "      <th>3</th>\n",
       "      <td>{'$oid': '52b213b38594d8a2be17c783'}</td>\n",
       "      <td>2014</td>\n",
       "      <td>October</td>\n",
       "      <td>2013-10-31T00:00:00Z</td>\n",
       "      <td>MIN. OF PLANNING AND INT'L COOPERATION</td>\n",
       "      <td>NaN</td>\n",
       "      <td>Republic of Yemen!$!RY</td>\n",
       "      <td>RY</td>\n",
       "      <td>Republic of Yemen</td>\n",
       "      <td>Yemen, Republic of</td>\n",
       "      <td>Procurement Plan,Project Information Document,...</td>\n",
       "      <td>C</td>\n",
       "      <td>1500000</td>\n",
       "      <td>0</td>\n",
       "      <td>P144665</td>\n",
       "      <td>0</td>\n",
       "      <td>LABOR INTENSIVE PUBLIC WORKS PROJECT PMU</td>\n",
       "      <td>Technical Assistance Loan</td>\n",
       "      <td>IN</td>\n",
       "      <td>1500000</td>\n",
       "      <td>[{'Percent': 100, 'Name': 'Health and other so...</td>\n",
       "      <td>[{'code': 'JX', 'name': 'Health and other soci...</td>\n",
       "      <td>[Social dev/gender/inclusion, Social dev/gende...</td>\n",
       "      <td>[{'code': '7', 'name': 'Social dev/gender/incl...</td>\n",
       "      <td>7,7</td>\n",
       "      <td>RE</td>\n",
       "      <td>Recipient Executed Activities</td>\n",
       "      <td>L</td>\n",
       "      <td>NaN</td>\n",
       "      <td>Gov't and Civil Society Organization Partnership</td>\n",
       "      <td>[{'DocDate': '15-MAY-2013', 'EntityID': '00035...</td>\n",
       "      <td>OTHER</td>\n",
       "      <td>Active</td>\n",
       "      <td>Middle East and North Africa</td>\n",
       "      <td>[{'Name': 'Other social services'}]</td>\n",
       "      <td>{'Percent': 100, 'Name': 'Other social services'}</td>\n",
       "      <td>NaN</td>\n",
       "      <td>NaN</td>\n",
       "      <td>NaN</td>\n",
       "      <td>[{'code': 'JB', 'name': 'Other social services'}]</td>\n",
       "      <td>JB</td>\n",
       "      <td>IBRD</td>\n",
       "      <td>Active</td>\n",
       "      <td>N</td>\n",
       "      <td>{'Percent': 50, 'Name': 'Participation and civ...</td>\n",
       "      <td>[{'code': '57', 'name': 'Participation and civ...</td>\n",
       "      <td>59,57</td>\n",
       "      <td>0</td>\n",
       "      <td>1500000</td>\n",
       "      <td>http://www.worldbank.org/projects/P144665?lang=en</td>\n",
       "    </tr>\n",
       "    <tr>\n",
       "      <th>4</th>\n",
       "      <td>{'$oid': '52b213b38594d8a2be17c784'}</td>\n",
       "      <td>2014</td>\n",
       "      <td>October</td>\n",
       "      <td>2013-10-31T00:00:00Z</td>\n",
       "      <td>MINISTRY OF FINANCE</td>\n",
       "      <td>2019-04-30T00:00:00Z</td>\n",
       "      <td>Kingdom of Lesotho!$!LS</td>\n",
       "      <td>LS</td>\n",
       "      <td>Kingdom of Lesotho</td>\n",
       "      <td>Lesotho</td>\n",
       "      <td>Project Information Document,Integrated Safegu...</td>\n",
       "      <td>B</td>\n",
       "      <td>0</td>\n",
       "      <td>0</td>\n",
       "      <td>P144933</td>\n",
       "      <td>13100000</td>\n",
       "      <td>MINISTRY OF TRADE AND INDUSTRY</td>\n",
       "      <td>Investment Project Financing</td>\n",
       "      <td>IN</td>\n",
       "      <td>15000000</td>\n",
       "      <td>[{'Percent': 50, 'Name': 'Industry and trade'}...</td>\n",
       "      <td>[{'code': 'YX', 'name': 'Industry and trade'},...</td>\n",
       "      <td>[Trade and integration, Financial and private ...</td>\n",
       "      <td>[{'code': '5', 'name': 'Trade and integration'...</td>\n",
       "      <td>5,4</td>\n",
       "      <td>PE</td>\n",
       "      <td>IBRD/IDA</td>\n",
       "      <td>L</td>\n",
       "      <td>{'cdata': 'The development objective of the Se...</td>\n",
       "      <td>Second Private Sector Competitiveness and Econ...</td>\n",
       "      <td>[{'DocDate': '06-SEP-2013', 'EntityID': '09022...</td>\n",
       "      <td>IDA</td>\n",
       "      <td>Active</td>\n",
       "      <td>Africa</td>\n",
       "      <td>[{'Name': 'General industry and trade sector'}...</td>\n",
       "      <td>{'Percent': 50, 'Name': 'General industry and ...</td>\n",
       "      <td>{'Percent': 40, 'Name': 'Other industry'}</td>\n",
       "      <td>{'Percent': 10, 'Name': 'SME Finance'}</td>\n",
       "      <td>NaN</td>\n",
       "      <td>[{'code': 'YZ', 'name': 'General industry and ...</td>\n",
       "      <td>FH,YW,YZ</td>\n",
       "      <td>IBRD</td>\n",
       "      <td>Active</td>\n",
       "      <td>N</td>\n",
       "      <td>{'Percent': 30, 'Name': 'Export development an...</td>\n",
       "      <td>[{'code': '45', 'name': 'Export development an...</td>\n",
       "      <td>41,45</td>\n",
       "      <td>13100000</td>\n",
       "      <td>13100000</td>\n",
       "      <td>http://www.worldbank.org/projects/P144933/seco...</td>\n",
       "    </tr>\n",
       "  </tbody>\n",
       "</table>\n",
       "</div>"
      ],
      "text/plain": [
       "                                    _id  approvalfy board_approval_month  \\\n",
       "0  {'$oid': '52b213b38594d8a2be17c780'}        1999             November   \n",
       "1  {'$oid': '52b213b38594d8a2be17c781'}        2015             November   \n",
       "2  {'$oid': '52b213b38594d8a2be17c782'}        2014             November   \n",
       "3  {'$oid': '52b213b38594d8a2be17c783'}        2014              October   \n",
       "4  {'$oid': '52b213b38594d8a2be17c784'}        2014              October   \n",
       "\n",
       "      boardapprovaldate                                 borrower  \\\n",
       "0  2013-11-12T00:00:00Z  FEDERAL DEMOCRATIC REPUBLIC OF ETHIOPIA   \n",
       "1  2013-11-04T00:00:00Z                    GOVERNMENT OF TUNISIA   \n",
       "2  2013-11-01T00:00:00Z   MINISTRY OF FINANCE AND ECONOMIC DEVEL   \n",
       "3  2013-10-31T00:00:00Z   MIN. OF PLANNING AND INT'L COOPERATION   \n",
       "4  2013-10-31T00:00:00Z                      MINISTRY OF FINANCE   \n",
       "\n",
       "            closingdate                              country_namecode  \\\n",
       "0  2018-07-07T00:00:00Z  Federal Democratic Republic of Ethiopia!$!ET   \n",
       "1                   NaN                      Republic of Tunisia!$!TN   \n",
       "2                   NaN                                   Tuvalu!$!TV   \n",
       "3                   NaN                        Republic of Yemen!$!RY   \n",
       "4  2019-04-30T00:00:00Z                       Kingdom of Lesotho!$!LS   \n",
       "\n",
       "  countrycode                              countryname    countryshortname  \\\n",
       "0          ET  Federal Democratic Republic of Ethiopia            Ethiopia   \n",
       "1          TN                      Republic of Tunisia             Tunisia   \n",
       "2          TV                                   Tuvalu              Tuvalu   \n",
       "3          RY                        Republic of Yemen  Yemen, Republic of   \n",
       "4          LS                       Kingdom of Lesotho             Lesotho   \n",
       "\n",
       "                                               docty envassesmentcategorycode  \\\n",
       "0  Project Information Document,Indigenous People...                        C   \n",
       "1  Project Information Document,Integrated Safegu...                        C   \n",
       "2  Resettlement Plan,Environmental Assessment,Int...                        B   \n",
       "3  Procurement Plan,Project Information Document,...                        C   \n",
       "4  Project Information Document,Integrated Safegu...                        B   \n",
       "\n",
       "   grantamt  ibrdcommamt       id  idacommamt  \\\n",
       "0         0            0  P129828   130000000   \n",
       "1   4700000            0  P144674           0   \n",
       "2         0            0  P145310     6060000   \n",
       "3   1500000            0  P144665           0   \n",
       "4         0            0  P144933    13100000   \n",
       "\n",
       "                                  impagency                  lendinginstr  \\\n",
       "0                     MINISTRY OF EDUCATION  Investment Project Financing   \n",
       "1                       MINISTRY OF FINANCE      Specific Investment Loan   \n",
       "2  MINISTRY OF TRANSPORT AND COMMUNICATIONS  Investment Project Financing   \n",
       "3  LABOR INTENSIVE PUBLIC WORKS PROJECT PMU     Technical Assistance Loan   \n",
       "4            MINISTRY OF TRADE AND INDUSTRY  Investment Project Financing   \n",
       "\n",
       "  lendinginstrtype  lendprojectcost  \\\n",
       "0               IN        550000000   \n",
       "1               IN          5700000   \n",
       "2               IN          6060000   \n",
       "3               IN          1500000   \n",
       "4               IN         15000000   \n",
       "\n",
       "                                 majorsector_percent  \\\n",
       "0  [{'Percent': 46, 'Name': 'Education'}, {'Perce...   \n",
       "1  [{'Percent': 70, 'Name': 'Public Administratio...   \n",
       "2       [{'Percent': 100, 'Name': 'Transportation'}]   \n",
       "3  [{'Percent': 100, 'Name': 'Health and other so...   \n",
       "4  [{'Percent': 50, 'Name': 'Industry and trade'}...   \n",
       "\n",
       "                                   mjsector_namecode  \\\n",
       "0  [{'code': 'EX', 'name': 'Education'}, {'code':...   \n",
       "1  [{'code': 'BX', 'name': 'Public Administration...   \n",
       "2         [{'code': 'TX', 'name': 'Transportation'}]   \n",
       "3  [{'code': 'JX', 'name': 'Health and other soci...   \n",
       "4  [{'code': 'YX', 'name': 'Industry and trade'},...   \n",
       "\n",
       "                                             mjtheme  \\\n",
       "0                                [Human development]   \n",
       "1  [Economic management, Social protection and ri...   \n",
       "2  [Trade and integration, Public sector governan...   \n",
       "3  [Social dev/gender/inclusion, Social dev/gende...   \n",
       "4  [Trade and integration, Financial and private ...   \n",
       "\n",
       "                                    mjtheme_namecode mjthemecode prodline  \\\n",
       "0  [{'code': '8', 'name': 'Human development'}, {...        8,11       PE   \n",
       "1  [{'code': '1', 'name': 'Economic management'},...         1,6       RE   \n",
       "2  [{'code': '5', 'name': 'Trade and integration'...    5,2,11,6       PE   \n",
       "3  [{'code': '7', 'name': 'Social dev/gender/incl...         7,7       RE   \n",
       "4  [{'code': '5', 'name': 'Trade and integration'...         5,4       PE   \n",
       "\n",
       "                    prodlinetext productlinetype  \\\n",
       "0                       IBRD/IDA               L   \n",
       "1  Recipient Executed Activities               L   \n",
       "2                       IBRD/IDA               L   \n",
       "3  Recipient Executed Activities               L   \n",
       "4                       IBRD/IDA               L   \n",
       "\n",
       "                                    project_abstract  \\\n",
       "0  {'cdata': 'The development objective of the Se...   \n",
       "1                                                NaN   \n",
       "2                                                NaN   \n",
       "3                                                NaN   \n",
       "4  {'cdata': 'The development objective of the Se...   \n",
       "\n",
       "                                        project_name  \\\n",
       "0  Ethiopia General Education Quality Improvement...   \n",
       "1          TN: DTF Social Protection Reforms Support   \n",
       "2  Tuvalu Aviation Investment Project - Additiona...   \n",
       "3   Gov't and Civil Society Organization Partnership   \n",
       "4  Second Private Sector Competitiveness and Econ...   \n",
       "\n",
       "                                         projectdocs projectfinancialtype  \\\n",
       "0  [{'DocDate': '28-AUG-2013', 'EntityID': '09022...                  IDA   \n",
       "1  [{'DocDate': '29-MAR-2013', 'EntityID': '00033...                OTHER   \n",
       "2  [{'DocDate': '21-OCT-2013', 'EntityID': '00033...                  IDA   \n",
       "3  [{'DocDate': '15-MAY-2013', 'EntityID': '00035...                OTHER   \n",
       "4  [{'DocDate': '06-SEP-2013', 'EntityID': '09022...                  IDA   \n",
       "\n",
       "  projectstatusdisplay                    regionname  \\\n",
       "0               Active                        Africa   \n",
       "1               Active  Middle East and North Africa   \n",
       "2               Active         East Asia and Pacific   \n",
       "3               Active  Middle East and North Africa   \n",
       "4               Active                        Africa   \n",
       "\n",
       "                                              sector  \\\n",
       "0  [{'Name': 'Primary education'}, {'Name': 'Seco...   \n",
       "1  [{'Name': 'Public administration- Other social...   \n",
       "2  [{'Name': 'Rural and Inter-Urban Roads and Hig...   \n",
       "3                [{'Name': 'Other social services'}]   \n",
       "4  [{'Name': 'General industry and trade sector'}...   \n",
       "\n",
       "                                             sector1  \\\n",
       "0       {'Percent': 46, 'Name': 'Primary education'}   \n",
       "1  {'Percent': 70, 'Name': 'Public administration...   \n",
       "2  {'Percent': 100, 'Name': 'Rural and Inter-Urba...   \n",
       "3  {'Percent': 100, 'Name': 'Other social services'}   \n",
       "4  {'Percent': 50, 'Name': 'General industry and ...   \n",
       "\n",
       "                                             sector2  \\\n",
       "0     {'Percent': 26, 'Name': 'Secondary education'}   \n",
       "1  {'Percent': 30, 'Name': 'General public admini...   \n",
       "2                                                NaN   \n",
       "3                                                NaN   \n",
       "4          {'Percent': 40, 'Name': 'Other industry'}   \n",
       "\n",
       "                                             sector3  \\\n",
       "0  {'Percent': 16, 'Name': 'Public administration...   \n",
       "1                                                NaN   \n",
       "2                                                NaN   \n",
       "3                                                NaN   \n",
       "4             {'Percent': 10, 'Name': 'SME Finance'}   \n",
       "\n",
       "                                         sector4  \\\n",
       "0  {'Percent': 12, 'Name': 'Tertiary education'}   \n",
       "1                                            NaN   \n",
       "2                                            NaN   \n",
       "3                                            NaN   \n",
       "4                                            NaN   \n",
       "\n",
       "                                     sector_namecode   sectorcode source  \\\n",
       "0  [{'code': 'EP', 'name': 'Primary education'}, ...  ET,BS,ES,EP   IBRD   \n",
       "1  [{'code': 'BS', 'name': 'Public administration...        BZ,BS   IBRD   \n",
       "2  [{'code': 'TI', 'name': 'Rural and Inter-Urban...           TI   IBRD   \n",
       "3  [{'code': 'JB', 'name': 'Other social services'}]           JB   IBRD   \n",
       "4  [{'code': 'YZ', 'name': 'General industry and ...     FH,YW,YZ   IBRD   \n",
       "\n",
       "   status supplementprojectflg  \\\n",
       "0  Active                    N   \n",
       "1  Active                    N   \n",
       "2  Active                    Y   \n",
       "3  Active                    N   \n",
       "4  Active                    N   \n",
       "\n",
       "                                              theme1  \\\n",
       "0      {'Percent': 100, 'Name': 'Education for all'}   \n",
       "1  {'Percent': 30, 'Name': 'Other economic manage...   \n",
       "2    {'Percent': 46, 'Name': 'Regional integration'}   \n",
       "3  {'Percent': 50, 'Name': 'Participation and civ...   \n",
       "4  {'Percent': 30, 'Name': 'Export development an...   \n",
       "\n",
       "                                      theme_namecode    themecode   totalamt  \\\n",
       "0      [{'code': '65', 'name': 'Education for all'}]           65  130000000   \n",
       "1  [{'code': '24', 'name': 'Other economic manage...        54,24          0   \n",
       "2  [{'code': '47', 'name': 'Regional integration'...  52,81,25,47    6060000   \n",
       "3  [{'code': '57', 'name': 'Participation and civ...        59,57          0   \n",
       "4  [{'code': '45', 'name': 'Export development an...        41,45   13100000   \n",
       "\n",
       "   totalcommamt                                                url  \n",
       "0     130000000  http://www.worldbank.org/projects/P129828/ethi...  \n",
       "1       4700000  http://www.worldbank.org/projects/P144674?lang=en  \n",
       "2       6060000  http://www.worldbank.org/projects/P145310?lang=en  \n",
       "3       1500000  http://www.worldbank.org/projects/P144665?lang=en  \n",
       "4      13100000  http://www.worldbank.org/projects/P144933/seco...  "
      ]
     },
     "execution_count": 2,
     "metadata": {},
     "output_type": "execute_result"
    }
   ],
   "source": [
    "# Inspect data\n",
    "wbp_data.head()"
   ]
  },
  {
   "cell_type": "markdown",
   "metadata": {},
   "source": [
    "Nifty! Let's dive right into the data. From the rows displayed above, it looks as though we have a single project (with all associated information) per row. The relevant columns for our work will be:\n",
    "\n",
    "* `countryname`: name of country listed on project\n",
    "* `mjtheme_namecode`: major project theme(s) for a given project"
   ]
  },
  {
   "cell_type": "markdown",
   "metadata": {},
   "source": [
    "## 1. Find the ten countries with the most projects. \n",
    "\n",
    "To find the ten countries with the most projects, we need to just tally up the number of rows in which each country appears and select the top ten. We can do this without too much trouble using `Series.value_counts()` on the `countryname` column, explicity providing `ascending=False` to return our list in descending order (though this is the default option). Once we have the full list, we can display the top ten using `.head(10)`. "
   ]
  },
  {
   "cell_type": "code",
   "execution_count": 3,
   "metadata": {
    "collapsed": false
   },
   "outputs": [
    {
     "data": {
      "text/plain": [
       "Republic of Indonesia              19\n",
       "People's Republic of China         19\n",
       "Socialist Republic of Vietnam      17\n",
       "Republic of India                  16\n",
       "Republic of Yemen                  13\n",
       "Nepal                              12\n",
       "People's Republic of Bangladesh    12\n",
       "Kingdom of Morocco                 12\n",
       "Africa                             11\n",
       "Republic of Mozambique             11\n",
       "Name: countryname, dtype: int64"
      ]
     },
     "execution_count": 3,
     "metadata": {},
     "output_type": "execute_result"
    }
   ],
   "source": [
    "num_projects_by_country = wbp_data.countryname.value_counts().sort_values(ascending=False)\n",
    "num_projects_by_country.head(10)"
   ]
  },
  {
   "cell_type": "markdown",
   "metadata": {},
   "source": [
    "## 2. Find the top ten major project themes (using column `mjtheme_namecode`). "
   ]
  },
  {
   "cell_type": "markdown",
   "metadata": {
    "collapsed": false
   },
   "source": [
    "Prior to attempting this step, let's examine the value contained in the `mjtheme_namecode` column in the first row. "
   ]
  },
  {
   "cell_type": "code",
   "execution_count": 4,
   "metadata": {
    "collapsed": false
   },
   "outputs": [
    {
     "name": "stdout",
     "output_type": "stream",
     "text": [
      "[{'code': '8', 'name': 'Human development'}, {'code': '11', 'name': ''}]\n"
     ]
    },
    {
     "data": {
      "text/plain": [
       "list"
      ]
     },
     "execution_count": 4,
     "metadata": {},
     "output_type": "execute_result"
    }
   ],
   "source": [
    "print(wbp_data.mjtheme_namecode[0])\n",
    "type(wbp_data.mjtheme_namecode[0])"
   ]
  },
  {
   "cell_type": "markdown",
   "metadata": {},
   "source": [
    "The contents of `mjtheme_namecode` are nested JSON strings! Therefore, we must do a little extra to tease out the major project themes from that column. Additionally, it is worth noting that more than one project theme may appear for a given project.\n",
    "\n",
    "The work to be done here is as follows:\n",
    "* Treat nested JSON strings using `json_normalize`.\n",
    "* Count number of times `code`/`name` appear in normalized dataframe (I will do this both ways, motivating third problem). \n",
    "* Display results."
   ]
  },
  {
   "cell_type": "code",
   "execution_count": 5,
   "metadata": {
    "collapsed": false
   },
   "outputs": [
    {
     "data": {
      "text/html": [
       "<div>\n",
       "<table border=\"1\" class=\"dataframe\">\n",
       "  <thead>\n",
       "    <tr style=\"text-align: right;\">\n",
       "      <th></th>\n",
       "      <th>code</th>\n",
       "      <th>name</th>\n",
       "    </tr>\n",
       "  </thead>\n",
       "  <tbody>\n",
       "    <tr>\n",
       "      <th>0</th>\n",
       "      <td>8</td>\n",
       "      <td>Human development</td>\n",
       "    </tr>\n",
       "    <tr>\n",
       "      <th>1</th>\n",
       "      <td>11</td>\n",
       "      <td></td>\n",
       "    </tr>\n",
       "    <tr>\n",
       "      <th>2</th>\n",
       "      <td>1</td>\n",
       "      <td>Economic management</td>\n",
       "    </tr>\n",
       "    <tr>\n",
       "      <th>3</th>\n",
       "      <td>6</td>\n",
       "      <td>Social protection and risk management</td>\n",
       "    </tr>\n",
       "    <tr>\n",
       "      <th>4</th>\n",
       "      <td>5</td>\n",
       "      <td>Trade and integration</td>\n",
       "    </tr>\n",
       "  </tbody>\n",
       "</table>\n",
       "</div>"
      ],
      "text/plain": [
       "  code                                   name\n",
       "0    8                      Human development\n",
       "1   11                                       \n",
       "2    1                    Economic management\n",
       "3    6  Social protection and risk management\n",
       "4    5                  Trade and integration"
      ]
     },
     "execution_count": 5,
     "metadata": {},
     "output_type": "execute_result"
    }
   ],
   "source": [
    "# Reload JSON data as string (allows for direct treatment of nested element.)\n",
    "with open(datafile) as json_file:\n",
    "    json_data = json.load(json_file)\n",
    "\n",
    "themes_norm = json_normalize(json_data, 'mjtheme_namecode')\n",
    "themes_norm.head()"
   ]
  },
  {
   "cell_type": "markdown",
   "metadata": {},
   "source": [
    "We note that there are some missing elements in the `name` column - we will treat these in the next stage of the problem. For now, let's find the ten most popular project themes (by `name` and by `code`) and list all `name`/`code` pairs to check for consistency. "
   ]
  },
  {
   "cell_type": "code",
   "execution_count": 6,
   "metadata": {
    "collapsed": false
   },
   "outputs": [
    {
     "name": "stdout",
     "output_type": "stream",
     "text": [
      "BY CODE:\n",
      "11    250\n",
      "10    216\n",
      "8     210\n",
      "2     199\n",
      "6     168\n",
      "4     146\n",
      "7     130\n",
      "5      77\n",
      "9      50\n",
      "1      38\n",
      "Name: code, dtype: int64\n"
     ]
    }
   ],
   "source": [
    "print('BY CODE:')\n",
    "code_pop_themes = themes_norm.code.value_counts().sort_values(ascending=False)\n",
    "print(code_pop_themes.head(10))"
   ]
  },
  {
   "cell_type": "code",
   "execution_count": 7,
   "metadata": {
    "collapsed": false
   },
   "outputs": [
    {
     "name": "stdout",
     "output_type": "stream",
     "text": [
      "BY NAME:\n",
      "Environment and natural resources management    223\n",
      "Rural development                               202\n",
      "Human development                               197\n",
      "Public sector governance                        184\n",
      "Social protection and risk management           158\n",
      "Financial and private sector development        130\n",
      "                                                122\n",
      "Social dev/gender/inclusion                     119\n",
      "Trade and integration                            72\n",
      "Urban development                                47\n",
      "Name: name, dtype: int64\n"
     ]
    }
   ],
   "source": [
    "print('BY NAME:')\n",
    "name_pop_themes = themes_norm.name.value_counts().sort_values(ascending=False)\n",
    "print(name_pop_themes.head(10))"
   ]
  },
  {
   "cell_type": "code",
   "execution_count": 8,
   "metadata": {
    "collapsed": false
   },
   "outputs": [
    {
     "name": "stdout",
     "output_type": "stream",
     "text": [
      "LIST OF CODE/NAME PAIRS:\n",
      "   code                                          name\n",
      "0     1                           Economic management\n",
      "1    10                             Rural development\n",
      "2    11  Environment and natural resources management\n",
      "3     2                      Public sector governance\n",
      "4     3                                   Rule of law\n",
      "5     4      Financial and private sector development\n",
      "6     5                         Trade and integration\n",
      "7     6         Social protection and risk management\n",
      "8     7                   Social dev/gender/inclusion\n",
      "9     8                             Human development\n",
      "10    9                             Urban development\n"
     ]
    }
   ],
   "source": [
    "# Ignore indices (treats code as string, resulting in 10/11 coming after 1 and before 2). \n",
    "print('LIST OF CODE/NAME PAIRS:')\n",
    "print(themes_norm[themes_norm.name != ''].sort_values(by='code').drop_duplicates().reset_index().drop('index', axis=1))"
   ]
  },
  {
   "cell_type": "markdown",
   "metadata": {},
   "source": [
    "Although the rankings are consistent, we note that the counts are indeed different, indicating that we could have run into trouble if we had a lot of missing `name` data for any given `code` (sufficient motivation for only counting with columns that are complete!). "
   ]
  },
  {
   "cell_type": "markdown",
   "metadata": {},
   "source": [
    "## 3. Fill in the code names for the entries that are missing them (from \\#2). "
   ]
  },
  {
   "cell_type": "markdown",
   "metadata": {
    "collapsed": true
   },
   "source": [
    "Now, let's fill in the missing names. To do so, we can just sort the normalized dataframe on `code`, then forward fill. "
   ]
  },
  {
   "cell_type": "code",
   "execution_count": 9,
   "metadata": {
    "collapsed": false
   },
   "outputs": [
    {
     "name": "stdout",
     "output_type": "stream",
     "text": [
      "Number of missing names: 122\n"
     ]
    }
   ],
   "source": [
    "# Check how many values are missing initially. \n",
    "print('Number of missing names: %d' % themes_norm[themes_norm.name == '']['name'].count())"
   ]
  },
  {
   "cell_type": "code",
   "execution_count": 10,
   "metadata": {
    "collapsed": false
   },
   "outputs": [],
   "source": [
    "# Replace missing values with NaNs, then fill with appropriate name using ffill/bfill.\n",
    "#\n",
    "# NOTE: For the first row with code=11, name is blank. To catch that value, we have to backwards fill \n",
    "#       after forward filling (I only noticed this was true after checking the results.)\n",
    "themes_norm['name'] = themes_norm.name.apply(lambda x : np.NaN if len(x) == 0 else x)\n",
    "themes_norm['name'] = themes_norm.groupby('code')['name'].fillna(method='ffill')\n",
    "themes_norm['name'] = themes_norm.groupby('code')['name'].fillna(method='bfill')"
   ]
  },
  {
   "cell_type": "code",
   "execution_count": 11,
   "metadata": {
    "collapsed": false
   },
   "outputs": [
    {
     "name": "stdout",
     "output_type": "stream",
     "text": [
      "Environment and natural resources management    250\n",
      "Rural development                               216\n",
      "Human development                               210\n",
      "Public sector governance                        199\n",
      "Social protection and risk management           168\n",
      "Financial and private sector development        146\n",
      "Social dev/gender/inclusion                     130\n",
      "Trade and integration                            77\n",
      "Urban development                                50\n",
      "Economic management                              38\n",
      "Name: name, dtype: int64\n"
     ]
    }
   ],
   "source": [
    "# Check if counts on name are now consistent with those we found when counting on code above.\n",
    "rev_name_pop_themes = themes_norm.name.value_counts().sort_values(ascending=False)\n",
    "print(rev_name_pop_themes.head(10))"
   ]
  },
  {
   "cell_type": "code",
   "execution_count": 12,
   "metadata": {
    "collapsed": false
   },
   "outputs": [
    {
     "name": "stdout",
     "output_type": "stream",
     "text": [
      "Number of missing names: 0\n"
     ]
    }
   ],
   "source": [
    "# Check how many values are missing after filling (better be zero!). \n",
    "print('Number of missing names: %d' % themes_norm[themes_norm.name == '']['name'].count())"
   ]
  },
  {
   "cell_type": "markdown",
   "metadata": {},
   "source": [
    "That finishes our exploration with JSON data! Happy coding!"
   ]
  }
 ],
 "metadata": {
  "kernelspec": {
   "display_name": "Python 3",
   "language": "python",
   "name": "python3"
  },
  "language_info": {
   "codemirror_mode": {
    "name": "ipython",
    "version": 3
   },
   "file_extension": ".py",
   "mimetype": "text/x-python",
   "name": "python",
   "nbconvert_exporter": "python",
   "pygments_lexer": "ipython3",
   "version": "3.6.0"
  }
 },
 "nbformat": 4,
 "nbformat_minor": 2
}
